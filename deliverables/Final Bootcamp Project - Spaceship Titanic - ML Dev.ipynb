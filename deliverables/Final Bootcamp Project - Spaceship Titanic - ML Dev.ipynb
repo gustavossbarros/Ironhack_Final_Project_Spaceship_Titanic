{
 "cells": [
  {
   "cell_type": "markdown",
   "id": "9bf24ef4",
   "metadata": {},
   "source": [
    "# Ironhack Final Bootcamp Project - Spaceship Titanic (Kaggle)"
   ]
  },
  {
   "cell_type": "markdown",
   "id": "46255122",
   "metadata": {},
   "source": [
    "This project is based on the Kaggle Spaceship Titanic competition. It consists on a binary classification machine learning model, wich has the objective to predict the if a whether a person will be transported to an alternate dimension or not."
   ]
  },
  {
   "cell_type": "markdown",
   "id": "7bb054e6",
   "metadata": {},
   "source": [
    "## Machine Learning Development"
   ]
  },
  {
   "cell_type": "markdown",
   "id": "78934dd0",
   "metadata": {},
   "source": [
    "###  Importing libraries and quick overview on dataset"
   ]
  },
  {
   "cell_type": "code",
   "execution_count": 1,
   "id": "24188583",
   "metadata": {},
   "outputs": [],
   "source": [
    "import pandas as pd\n",
    "import numpy as np\n",
    "import matplotlib.pyplot as plt\n",
    "%matplotlib inline\n",
    "import seaborn as sns\n",
    "import warnings\n",
    "warnings.filterwarnings('ignore')\n",
    "\n",
    "from scipy.stats import chi2_contingency\n",
    "from sklearn.impute import SimpleImputer\n",
    "from sklearn.feature_selection import RFE, SelectKBest, chi2\n",
    "from statsmodels.stats.outliers_influence import variance_inflation_factor\n",
    "from sklearn.preprocessing import OneHotEncoder, LabelEncoder, MinMaxScaler, StandardScaler, Normalizer\n",
    "from sklearn.pipeline import Pipeline\n",
    "from sklearn.model_selection import train_test_split, RandomizedSearchCV, GridSearchCV, KFold, cross_val_score\n",
    "from sklearn.linear_model import LogisticRegression\n",
    "from sklearn.neighbors import KNeighborsClassifier\n",
    "from sklearn.tree import DecisionTreeClassifier\n",
    "from sklearn.ensemble import RandomForestClassifier\n",
    "from xgboost import XGBClassifier\n",
    "\n",
    "from sklearn.metrics import confusion_matrix, ConfusionMatrixDisplay, roc_auc_score, roc_curve, auc"
   ]
  },
  {
   "cell_type": "code",
   "execution_count": 2,
   "id": "1da8b7b0",
   "metadata": {},
   "outputs": [],
   "source": [
    "train_data = pd.read_csv('../data/train_transformed.csv')\n",
    "test_data = pd.read_csv('../data/test_transformed.csv')\n",
    "submission_sample = pd.read_csv('../data/sample_submission.csv')"
   ]
  },
  {
   "cell_type": "code",
   "execution_count": 3,
   "id": "228d0248",
   "metadata": {},
   "outputs": [
    {
     "data": {
      "text/html": [
       "<div>\n",
       "<style scoped>\n",
       "    .dataframe tbody tr th:only-of-type {\n",
       "        vertical-align: middle;\n",
       "    }\n",
       "\n",
       "    .dataframe tbody tr th {\n",
       "        vertical-align: top;\n",
       "    }\n",
       "\n",
       "    .dataframe thead th {\n",
       "        text-align: right;\n",
       "    }\n",
       "</style>\n",
       "<table border=\"1\" class=\"dataframe\">\n",
       "  <thead>\n",
       "    <tr style=\"text-align: right;\">\n",
       "      <th></th>\n",
       "      <th>PassengerId</th>\n",
       "      <th>HomePlanet</th>\n",
       "      <th>CryoSleep</th>\n",
       "      <th>Destination</th>\n",
       "      <th>Age</th>\n",
       "      <th>VIP</th>\n",
       "      <th>RoomService</th>\n",
       "      <th>FoodCourt</th>\n",
       "      <th>ShoppingMall</th>\n",
       "      <th>Spa</th>\n",
       "      <th>VRDeck</th>\n",
       "      <th>Name</th>\n",
       "      <th>Transported</th>\n",
       "      <th>PassengerNumber</th>\n",
       "      <th>GroupSize</th>\n",
       "      <th>CabinDeck</th>\n",
       "      <th>CabinSide</th>\n",
       "      <th>GroupNumberBuckets</th>\n",
       "      <th>CabinNumberBuckets</th>\n",
       "    </tr>\n",
       "  </thead>\n",
       "  <tbody>\n",
       "    <tr>\n",
       "      <th>0</th>\n",
       "      <td>0001_01</td>\n",
       "      <td>Europa</td>\n",
       "      <td>False</td>\n",
       "      <td>TRAPPIST-1e</td>\n",
       "      <td>39.0</td>\n",
       "      <td>False</td>\n",
       "      <td>0.0</td>\n",
       "      <td>0.0</td>\n",
       "      <td>0.0</td>\n",
       "      <td>0.0</td>\n",
       "      <td>0.0</td>\n",
       "      <td>Maham Ofracculy</td>\n",
       "      <td>False</td>\n",
       "      <td>1</td>\n",
       "      <td>1</td>\n",
       "      <td>B</td>\n",
       "      <td>P</td>\n",
       "      <td>Bucket 0</td>\n",
       "      <td>Bucket 0</td>\n",
       "    </tr>\n",
       "    <tr>\n",
       "      <th>1</th>\n",
       "      <td>0002_01</td>\n",
       "      <td>Earth</td>\n",
       "      <td>False</td>\n",
       "      <td>TRAPPIST-1e</td>\n",
       "      <td>24.0</td>\n",
       "      <td>False</td>\n",
       "      <td>109.0</td>\n",
       "      <td>9.0</td>\n",
       "      <td>25.0</td>\n",
       "      <td>549.0</td>\n",
       "      <td>44.0</td>\n",
       "      <td>Juanna Vines</td>\n",
       "      <td>True</td>\n",
       "      <td>1</td>\n",
       "      <td>1</td>\n",
       "      <td>F</td>\n",
       "      <td>S</td>\n",
       "      <td>Bucket 0</td>\n",
       "      <td>Bucket 0</td>\n",
       "    </tr>\n",
       "    <tr>\n",
       "      <th>2</th>\n",
       "      <td>0003_01</td>\n",
       "      <td>Europa</td>\n",
       "      <td>False</td>\n",
       "      <td>TRAPPIST-1e</td>\n",
       "      <td>58.0</td>\n",
       "      <td>True</td>\n",
       "      <td>43.0</td>\n",
       "      <td>3576.0</td>\n",
       "      <td>0.0</td>\n",
       "      <td>6715.0</td>\n",
       "      <td>49.0</td>\n",
       "      <td>Altark Susent</td>\n",
       "      <td>False</td>\n",
       "      <td>1</td>\n",
       "      <td>2 or 3</td>\n",
       "      <td>A</td>\n",
       "      <td>S</td>\n",
       "      <td>Bucket 0</td>\n",
       "      <td>Bucket 0</td>\n",
       "    </tr>\n",
       "    <tr>\n",
       "      <th>3</th>\n",
       "      <td>0003_02</td>\n",
       "      <td>Europa</td>\n",
       "      <td>False</td>\n",
       "      <td>TRAPPIST-1e</td>\n",
       "      <td>33.0</td>\n",
       "      <td>False</td>\n",
       "      <td>0.0</td>\n",
       "      <td>1283.0</td>\n",
       "      <td>371.0</td>\n",
       "      <td>3329.0</td>\n",
       "      <td>193.0</td>\n",
       "      <td>Solam Susent</td>\n",
       "      <td>False</td>\n",
       "      <td>2 or 3</td>\n",
       "      <td>2 or 3</td>\n",
       "      <td>A</td>\n",
       "      <td>S</td>\n",
       "      <td>Bucket 0</td>\n",
       "      <td>Bucket 0</td>\n",
       "    </tr>\n",
       "    <tr>\n",
       "      <th>4</th>\n",
       "      <td>0004_01</td>\n",
       "      <td>Earth</td>\n",
       "      <td>False</td>\n",
       "      <td>TRAPPIST-1e</td>\n",
       "      <td>16.0</td>\n",
       "      <td>False</td>\n",
       "      <td>303.0</td>\n",
       "      <td>70.0</td>\n",
       "      <td>151.0</td>\n",
       "      <td>565.0</td>\n",
       "      <td>2.0</td>\n",
       "      <td>Willy Santantines</td>\n",
       "      <td>True</td>\n",
       "      <td>1</td>\n",
       "      <td>1</td>\n",
       "      <td>F</td>\n",
       "      <td>S</td>\n",
       "      <td>Bucket 0</td>\n",
       "      <td>Bucket 0</td>\n",
       "    </tr>\n",
       "  </tbody>\n",
       "</table>\n",
       "</div>"
      ],
      "text/plain": [
       "  PassengerId HomePlanet CryoSleep  Destination   Age    VIP  RoomService  \\\n",
       "0     0001_01     Europa     False  TRAPPIST-1e  39.0  False          0.0   \n",
       "1     0002_01      Earth     False  TRAPPIST-1e  24.0  False        109.0   \n",
       "2     0003_01     Europa     False  TRAPPIST-1e  58.0   True         43.0   \n",
       "3     0003_02     Europa     False  TRAPPIST-1e  33.0  False          0.0   \n",
       "4     0004_01      Earth     False  TRAPPIST-1e  16.0  False        303.0   \n",
       "\n",
       "   FoodCourt  ShoppingMall     Spa  VRDeck               Name  Transported  \\\n",
       "0        0.0           0.0     0.0     0.0    Maham Ofracculy        False   \n",
       "1        9.0          25.0   549.0    44.0       Juanna Vines         True   \n",
       "2     3576.0           0.0  6715.0    49.0      Altark Susent        False   \n",
       "3     1283.0         371.0  3329.0   193.0       Solam Susent        False   \n",
       "4       70.0         151.0   565.0     2.0  Willy Santantines         True   \n",
       "\n",
       "  PassengerNumber GroupSize CabinDeck CabinSide GroupNumberBuckets  \\\n",
       "0               1         1         B         P           Bucket 0   \n",
       "1               1         1         F         S           Bucket 0   \n",
       "2               1    2 or 3         A         S           Bucket 0   \n",
       "3          2 or 3    2 or 3         A         S           Bucket 0   \n",
       "4               1         1         F         S           Bucket 0   \n",
       "\n",
       "  CabinNumberBuckets  \n",
       "0           Bucket 0  \n",
       "1           Bucket 0  \n",
       "2           Bucket 0  \n",
       "3           Bucket 0  \n",
       "4           Bucket 0  "
      ]
     },
     "execution_count": 3,
     "metadata": {},
     "output_type": "execute_result"
    }
   ],
   "source": [
    "train_data.head()"
   ]
  },
  {
   "cell_type": "code",
   "execution_count": 4,
   "id": "36c0e43a",
   "metadata": {},
   "outputs": [
    {
     "data": {
      "text/html": [
       "<div>\n",
       "<style scoped>\n",
       "    .dataframe tbody tr th:only-of-type {\n",
       "        vertical-align: middle;\n",
       "    }\n",
       "\n",
       "    .dataframe tbody tr th {\n",
       "        vertical-align: top;\n",
       "    }\n",
       "\n",
       "    .dataframe thead th {\n",
       "        text-align: right;\n",
       "    }\n",
       "</style>\n",
       "<table border=\"1\" class=\"dataframe\">\n",
       "  <thead>\n",
       "    <tr style=\"text-align: right;\">\n",
       "      <th></th>\n",
       "      <th>PassengerId</th>\n",
       "      <th>HomePlanet</th>\n",
       "      <th>CryoSleep</th>\n",
       "      <th>Destination</th>\n",
       "      <th>Age</th>\n",
       "      <th>VIP</th>\n",
       "      <th>RoomService</th>\n",
       "      <th>FoodCourt</th>\n",
       "      <th>ShoppingMall</th>\n",
       "      <th>Spa</th>\n",
       "      <th>VRDeck</th>\n",
       "      <th>Name</th>\n",
       "      <th>PassengerNumber</th>\n",
       "      <th>GroupSize</th>\n",
       "      <th>CabinDeck</th>\n",
       "      <th>CabinSide</th>\n",
       "      <th>GroupNumberBuckets</th>\n",
       "      <th>CabinNumberBuckets</th>\n",
       "    </tr>\n",
       "  </thead>\n",
       "  <tbody>\n",
       "    <tr>\n",
       "      <th>0</th>\n",
       "      <td>0013_01</td>\n",
       "      <td>Earth</td>\n",
       "      <td>True</td>\n",
       "      <td>TRAPPIST-1e</td>\n",
       "      <td>27.0</td>\n",
       "      <td>False</td>\n",
       "      <td>0.0</td>\n",
       "      <td>0.0</td>\n",
       "      <td>0.0</td>\n",
       "      <td>0.0</td>\n",
       "      <td>0.0</td>\n",
       "      <td>Nelly Carsoning</td>\n",
       "      <td>1</td>\n",
       "      <td>1</td>\n",
       "      <td>G</td>\n",
       "      <td>S</td>\n",
       "      <td>Bucket 0</td>\n",
       "      <td>Bucket 0</td>\n",
       "    </tr>\n",
       "    <tr>\n",
       "      <th>1</th>\n",
       "      <td>0018_01</td>\n",
       "      <td>Earth</td>\n",
       "      <td>False</td>\n",
       "      <td>TRAPPIST-1e</td>\n",
       "      <td>19.0</td>\n",
       "      <td>False</td>\n",
       "      <td>0.0</td>\n",
       "      <td>9.0</td>\n",
       "      <td>0.0</td>\n",
       "      <td>2823.0</td>\n",
       "      <td>0.0</td>\n",
       "      <td>Lerome Peckers</td>\n",
       "      <td>1</td>\n",
       "      <td>1</td>\n",
       "      <td>F</td>\n",
       "      <td>S</td>\n",
       "      <td>Bucket 0</td>\n",
       "      <td>Bucket 0</td>\n",
       "    </tr>\n",
       "    <tr>\n",
       "      <th>2</th>\n",
       "      <td>0019_01</td>\n",
       "      <td>Europa</td>\n",
       "      <td>True</td>\n",
       "      <td>55 Cancri e</td>\n",
       "      <td>31.0</td>\n",
       "      <td>False</td>\n",
       "      <td>0.0</td>\n",
       "      <td>0.0</td>\n",
       "      <td>0.0</td>\n",
       "      <td>0.0</td>\n",
       "      <td>0.0</td>\n",
       "      <td>Sabih Unhearfus</td>\n",
       "      <td>1</td>\n",
       "      <td>1</td>\n",
       "      <td>C</td>\n",
       "      <td>S</td>\n",
       "      <td>Bucket 0</td>\n",
       "      <td>Bucket 0</td>\n",
       "    </tr>\n",
       "    <tr>\n",
       "      <th>3</th>\n",
       "      <td>0021_01</td>\n",
       "      <td>Europa</td>\n",
       "      <td>False</td>\n",
       "      <td>TRAPPIST-1e</td>\n",
       "      <td>38.0</td>\n",
       "      <td>False</td>\n",
       "      <td>0.0</td>\n",
       "      <td>6652.0</td>\n",
       "      <td>0.0</td>\n",
       "      <td>181.0</td>\n",
       "      <td>585.0</td>\n",
       "      <td>Meratz Caltilter</td>\n",
       "      <td>1</td>\n",
       "      <td>1</td>\n",
       "      <td>C</td>\n",
       "      <td>S</td>\n",
       "      <td>Bucket 0</td>\n",
       "      <td>Bucket 0</td>\n",
       "    </tr>\n",
       "    <tr>\n",
       "      <th>4</th>\n",
       "      <td>0023_01</td>\n",
       "      <td>Earth</td>\n",
       "      <td>False</td>\n",
       "      <td>TRAPPIST-1e</td>\n",
       "      <td>20.0</td>\n",
       "      <td>False</td>\n",
       "      <td>10.0</td>\n",
       "      <td>0.0</td>\n",
       "      <td>635.0</td>\n",
       "      <td>0.0</td>\n",
       "      <td>0.0</td>\n",
       "      <td>Brence Harperez</td>\n",
       "      <td>1</td>\n",
       "      <td>1</td>\n",
       "      <td>F</td>\n",
       "      <td>S</td>\n",
       "      <td>Bucket 0</td>\n",
       "      <td>Bucket 0</td>\n",
       "    </tr>\n",
       "  </tbody>\n",
       "</table>\n",
       "</div>"
      ],
      "text/plain": [
       "  PassengerId HomePlanet CryoSleep  Destination   Age    VIP  RoomService  \\\n",
       "0     0013_01      Earth      True  TRAPPIST-1e  27.0  False          0.0   \n",
       "1     0018_01      Earth     False  TRAPPIST-1e  19.0  False          0.0   \n",
       "2     0019_01     Europa      True  55 Cancri e  31.0  False          0.0   \n",
       "3     0021_01     Europa     False  TRAPPIST-1e  38.0  False          0.0   \n",
       "4     0023_01      Earth     False  TRAPPIST-1e  20.0  False         10.0   \n",
       "\n",
       "   FoodCourt  ShoppingMall     Spa  VRDeck              Name PassengerNumber  \\\n",
       "0        0.0           0.0     0.0     0.0   Nelly Carsoning               1   \n",
       "1        9.0           0.0  2823.0     0.0    Lerome Peckers               1   \n",
       "2        0.0           0.0     0.0     0.0   Sabih Unhearfus               1   \n",
       "3     6652.0           0.0   181.0   585.0  Meratz Caltilter               1   \n",
       "4        0.0         635.0     0.0     0.0   Brence Harperez               1   \n",
       "\n",
       "  GroupSize CabinDeck CabinSide GroupNumberBuckets CabinNumberBuckets  \n",
       "0         1         G         S           Bucket 0           Bucket 0  \n",
       "1         1         F         S           Bucket 0           Bucket 0  \n",
       "2         1         C         S           Bucket 0           Bucket 0  \n",
       "3         1         C         S           Bucket 0           Bucket 0  \n",
       "4         1         F         S           Bucket 0           Bucket 0  "
      ]
     },
     "execution_count": 4,
     "metadata": {},
     "output_type": "execute_result"
    }
   ],
   "source": [
    "test_data.head()"
   ]
  },
  {
   "cell_type": "markdown",
   "id": "384a460b",
   "metadata": {},
   "source": [
    "Here you can see the description of each column:\n",
    "\n",
    "- PassengerId - A unique Id for each passenger. Each Id takes the form gggg_pp where gggg indicates a group the passenger is travelling with and pp is their number within the group. People in a group are often family members, but not always.\n",
    "- HomePlanet - The planet the passenger departed from, typically their planet of permanent residence.\n",
    "- CryoSleep - Indicates whether the passenger elected to be put into suspended animation for the duration of the voyage. Passengers in cryosleep are confined to their cabins.\n",
    "- Cabin - The cabin number where the passenger is staying. Takes the form deck/num/side, where side can be either P for Port or S for Starboard.\n",
    "- Destination - The planet the passenger will be debarking to.\n",
    "- Age - The age of the passenger.\n",
    "- VIP - Whether the passenger has paid for special VIP service during the voyage.\n",
    "- RoomService, FoodCourt, ShoppingMall, Spa, VRDeck - Amount the passenger has billed at each of the Spaceship Titanic's many luxury amenities.\n",
    "- Name - The first and last names of the passenger.\n",
    "- Transported - Whether the passenger was transported to another dimension. This is the target, the column you are trying to predict.\n",
    "- PassengerNumber - Tells the number of the passenger within the group his travelling with.\n",
    "- GroupSize - How many passengers has the group this passenger is travelling\n",
    "- CabinDeck - Wich deck in the spaceship the cabin of this passenger belongs.\n",
    "- CabinSide - Wich side in the spaceship the cabin of this passenger belongs.\n",
    "- GroupNumberBuckets - Each group has a unique number. These numbers are bucketed in 8 different labels.\n",
    "- CabinNumberBuckets - Each cabin has a number that identifies it inside it's deck and side of the spaceship. These numbers are bucketed in 6 different labels."
   ]
  },
  {
   "cell_type": "code",
   "execution_count": 5,
   "id": "de315193",
   "metadata": {},
   "outputs": [
    {
     "name": "stdout",
     "output_type": "stream",
     "text": [
      "train_data shape (8693, 19)\n",
      "test_data shape (4277, 18)\n"
     ]
    }
   ],
   "source": [
    "print('train_data shape',train_data.shape)\n",
    "print('test_data shape', test_data.shape)\n",
    "\n",
    "# the test_data has one less column, wich is target column i need to predict"
   ]
  },
  {
   "cell_type": "code",
   "execution_count": 6,
   "id": "d3fe6406",
   "metadata": {},
   "outputs": [
    {
     "name": "stdout",
     "output_type": "stream",
     "text": [
      "<class 'pandas.core.frame.DataFrame'>\n",
      "RangeIndex: 8693 entries, 0 to 8692\n",
      "Data columns (total 19 columns):\n",
      " #   Column              Non-Null Count  Dtype  \n",
      "---  ------              --------------  -----  \n",
      " 0   PassengerId         8693 non-null   object \n",
      " 1   HomePlanet          8492 non-null   object \n",
      " 2   CryoSleep           8476 non-null   object \n",
      " 3   Destination         8511 non-null   object \n",
      " 4   Age                 8514 non-null   float64\n",
      " 5   VIP                 8490 non-null   object \n",
      " 6   RoomService         8512 non-null   float64\n",
      " 7   FoodCourt           8510 non-null   float64\n",
      " 8   ShoppingMall        8485 non-null   float64\n",
      " 9   Spa                 8510 non-null   float64\n",
      " 10  VRDeck              8505 non-null   float64\n",
      " 11  Name                8493 non-null   object \n",
      " 12  Transported         8693 non-null   bool   \n",
      " 13  PassengerNumber     8693 non-null   object \n",
      " 14  GroupSize           8693 non-null   object \n",
      " 15  CabinDeck           8494 non-null   object \n",
      " 16  CabinSide           8494 non-null   object \n",
      " 17  GroupNumberBuckets  8693 non-null   object \n",
      " 18  CabinNumberBuckets  8494 non-null   object \n",
      "dtypes: bool(1), float64(6), object(12)\n",
      "memory usage: 1.2+ MB\n"
     ]
    }
   ],
   "source": [
    "train_data.info()\n",
    "# there are some nulls, i'll need to take a look at each collumn in specific to choose the best strategy to deal with it"
   ]
  },
  {
   "cell_type": "code",
   "execution_count": 7,
   "id": "95ab4e50",
   "metadata": {},
   "outputs": [],
   "source": [
    "# target column is being treated as bool. i'll treat it as an object type\n",
    "\n",
    "train_data['Transported'] = train_data['Transported'].replace({True: 'True', False: 'False'})"
   ]
  },
  {
   "cell_type": "code",
   "execution_count": 8,
   "id": "f036bca7",
   "metadata": {},
   "outputs": [
    {
     "data": {
      "text/html": [
       "<div>\n",
       "<style scoped>\n",
       "    .dataframe tbody tr th:only-of-type {\n",
       "        vertical-align: middle;\n",
       "    }\n",
       "\n",
       "    .dataframe tbody tr th {\n",
       "        vertical-align: top;\n",
       "    }\n",
       "\n",
       "    .dataframe thead th {\n",
       "        text-align: right;\n",
       "    }\n",
       "</style>\n",
       "<table border=\"1\" class=\"dataframe\">\n",
       "  <thead>\n",
       "    <tr style=\"text-align: right;\">\n",
       "      <th></th>\n",
       "      <th>Age</th>\n",
       "      <th>RoomService</th>\n",
       "      <th>FoodCourt</th>\n",
       "      <th>ShoppingMall</th>\n",
       "      <th>Spa</th>\n",
       "      <th>VRDeck</th>\n",
       "    </tr>\n",
       "  </thead>\n",
       "  <tbody>\n",
       "    <tr>\n",
       "      <th>count</th>\n",
       "      <td>8514.000000</td>\n",
       "      <td>8512.000000</td>\n",
       "      <td>8510.000000</td>\n",
       "      <td>8485.000000</td>\n",
       "      <td>8510.000000</td>\n",
       "      <td>8505.000000</td>\n",
       "    </tr>\n",
       "    <tr>\n",
       "      <th>mean</th>\n",
       "      <td>28.827930</td>\n",
       "      <td>224.687617</td>\n",
       "      <td>458.077203</td>\n",
       "      <td>173.729169</td>\n",
       "      <td>311.138778</td>\n",
       "      <td>304.854791</td>\n",
       "    </tr>\n",
       "    <tr>\n",
       "      <th>std</th>\n",
       "      <td>14.489021</td>\n",
       "      <td>666.717663</td>\n",
       "      <td>1611.489240</td>\n",
       "      <td>604.696458</td>\n",
       "      <td>1136.705535</td>\n",
       "      <td>1145.717189</td>\n",
       "    </tr>\n",
       "    <tr>\n",
       "      <th>min</th>\n",
       "      <td>0.000000</td>\n",
       "      <td>0.000000</td>\n",
       "      <td>0.000000</td>\n",
       "      <td>0.000000</td>\n",
       "      <td>0.000000</td>\n",
       "      <td>0.000000</td>\n",
       "    </tr>\n",
       "    <tr>\n",
       "      <th>25%</th>\n",
       "      <td>19.000000</td>\n",
       "      <td>0.000000</td>\n",
       "      <td>0.000000</td>\n",
       "      <td>0.000000</td>\n",
       "      <td>0.000000</td>\n",
       "      <td>0.000000</td>\n",
       "    </tr>\n",
       "    <tr>\n",
       "      <th>50%</th>\n",
       "      <td>27.000000</td>\n",
       "      <td>0.000000</td>\n",
       "      <td>0.000000</td>\n",
       "      <td>0.000000</td>\n",
       "      <td>0.000000</td>\n",
       "      <td>0.000000</td>\n",
       "    </tr>\n",
       "    <tr>\n",
       "      <th>75%</th>\n",
       "      <td>38.000000</td>\n",
       "      <td>47.000000</td>\n",
       "      <td>76.000000</td>\n",
       "      <td>27.000000</td>\n",
       "      <td>59.000000</td>\n",
       "      <td>46.000000</td>\n",
       "    </tr>\n",
       "    <tr>\n",
       "      <th>max</th>\n",
       "      <td>79.000000</td>\n",
       "      <td>14327.000000</td>\n",
       "      <td>29813.000000</td>\n",
       "      <td>23492.000000</td>\n",
       "      <td>22408.000000</td>\n",
       "      <td>24133.000000</td>\n",
       "    </tr>\n",
       "  </tbody>\n",
       "</table>\n",
       "</div>"
      ],
      "text/plain": [
       "               Age   RoomService     FoodCourt  ShoppingMall           Spa  \\\n",
       "count  8514.000000   8512.000000   8510.000000   8485.000000   8510.000000   \n",
       "mean     28.827930    224.687617    458.077203    173.729169    311.138778   \n",
       "std      14.489021    666.717663   1611.489240    604.696458   1136.705535   \n",
       "min       0.000000      0.000000      0.000000      0.000000      0.000000   \n",
       "25%      19.000000      0.000000      0.000000      0.000000      0.000000   \n",
       "50%      27.000000      0.000000      0.000000      0.000000      0.000000   \n",
       "75%      38.000000     47.000000     76.000000     27.000000     59.000000   \n",
       "max      79.000000  14327.000000  29813.000000  23492.000000  22408.000000   \n",
       "\n",
       "             VRDeck  \n",
       "count   8505.000000  \n",
       "mean     304.854791  \n",
       "std     1145.717189  \n",
       "min        0.000000  \n",
       "25%        0.000000  \n",
       "50%        0.000000  \n",
       "75%       46.000000  \n",
       "max    24133.000000  "
      ]
     },
     "execution_count": 8,
     "metadata": {},
     "output_type": "execute_result"
    }
   ],
   "source": [
    "train_data.describe()"
   ]
  },
  {
   "cell_type": "code",
   "execution_count": null,
   "id": "c87fb35e",
   "metadata": {},
   "outputs": [],
   "source": []
  },
  {
   "cell_type": "markdown",
   "id": "159e9c06",
   "metadata": {},
   "source": [
    "### Filling Nulls"
   ]
  },
  {
   "cell_type": "code",
   "execution_count": 9,
   "id": "da444e0a",
   "metadata": {},
   "outputs": [],
   "source": [
    "# Splitting both train and test sets into numericals and categorical features\n",
    "\n",
    "# Train Set\n",
    "\n",
    "num_feat_train = train_data.select_dtypes(np.number)\n",
    "num_feat_train_cols = num_feat_train.columns # saving column names to use them later\n",
    "\n",
    "# Columns PassengerId and Name will not be used to train the machine learning model, so they will be droped\n",
    "# Column Transported is the target, so this will be droped since it's here by mistake\n",
    "cat_feat_train = train_data.select_dtypes(np.object).drop(['PassengerId', 'Name', 'Transported'], axis=1)\n",
    "cat_feat_train_cols = cat_feat_train.columns # saving column names to use them later\n",
    "\n",
    "# Train Target\n",
    "train_target = train_data['Transported']\n",
    "\n",
    "# Test Set\n",
    "\n",
    "num_feat_test = test_data.select_dtypes(np.number)\n",
    "num_feat_test_cols = num_feat_test.columns # saving column names to use them later\n",
    "\n",
    "# Columns PassengerId and Name will not be used to train the machine learning model, so they will be droped\n",
    "cat_feat_test = test_data.select_dtypes(np.object).drop(['PassengerId', 'Name'], axis=1)\n",
    "cat_feat_test_cols = cat_feat_test.columns # saving column names to use them later"
   ]
  },
  {
   "cell_type": "code",
   "execution_count": null,
   "id": "a9e72c06",
   "metadata": {},
   "outputs": [],
   "source": []
  },
  {
   "cell_type": "code",
   "execution_count": 10,
   "id": "828d59f6",
   "metadata": {},
   "outputs": [],
   "source": [
    "# Defining different objects of SimpleImputer to use them separately on train and test sets, but with the same strategy\n",
    "\n",
    "num_si_train = SimpleImputer(strategy='mean')\n",
    "cat_si_train = SimpleImputer(strategy='most_frequent')\n",
    "\n",
    "num_si_test = SimpleImputer(strategy='mean')\n",
    "cat_si_test = SimpleImputer(strategy='most_frequent')"
   ]
  },
  {
   "cell_type": "code",
   "execution_count": 11,
   "id": "aed0a419",
   "metadata": {
    "scrolled": true
   },
   "outputs": [
    {
     "name": "stdout",
     "output_type": "stream",
     "text": [
      "Percentage of nulls in Train Data \n",
      " PassengerId           0.000000\n",
      "HomePlanet            2.312205\n",
      "CryoSleep             2.496261\n",
      "Destination           2.093639\n",
      "Age                   2.059128\n",
      "VIP                   2.335212\n",
      "RoomService           2.082135\n",
      "FoodCourt             2.105142\n",
      "ShoppingMall          2.392730\n",
      "Spa                   2.105142\n",
      "VRDeck                2.162660\n",
      "Name                  2.300702\n",
      "Transported           0.000000\n",
      "PassengerNumber       0.000000\n",
      "GroupSize             0.000000\n",
      "CabinDeck             2.289198\n",
      "CabinSide             2.289198\n",
      "GroupNumberBuckets    0.000000\n",
      "CabinNumberBuckets    2.289198\n",
      "dtype: float64 \n",
      "\n",
      "Percentage of nulls in Test Data \n",
      " PassengerId           0.000000\n",
      "HomePlanet            2.034136\n",
      "CryoSleep             2.174421\n",
      "Destination           2.151040\n",
      "Age                   2.127660\n",
      "VIP                   2.174421\n",
      "RoomService           1.917232\n",
      "FoodCourt             2.478373\n",
      "ShoppingMall          2.291326\n",
      "Spa                   2.361468\n",
      "VRDeck                1.870470\n",
      "Name                  2.197802\n",
      "PassengerNumber       0.000000\n",
      "GroupSize             0.000000\n",
      "CabinDeck             2.338087\n",
      "CabinSide             2.338087\n",
      "GroupNumberBuckets    0.000000\n",
      "CabinNumberBuckets    2.338087\n",
      "dtype: float64\n"
     ]
    }
   ],
   "source": [
    "print('Percentage of nulls in Train Data', '\\n',train_data.isna().sum()/len(train_data) * 100,'\\n')\n",
    "print('Percentage of nulls in Test Data', '\\n',test_data.isna().sum()/len(test_data) * 100)"
   ]
  },
  {
   "cell_type": "code",
   "execution_count": 12,
   "id": "9f160463",
   "metadata": {},
   "outputs": [],
   "source": [
    "# filling nulls on train set\n",
    "num_feat_train = pd.DataFrame(num_si_train.fit_transform(num_feat_train), columns=num_feat_train_cols)\n",
    "cat_feat_train = pd.DataFrame(cat_si_train.fit_transform(cat_feat_train), columns=cat_feat_train_cols)\n",
    "\n",
    "# filling nulls on test set\n",
    "num_feat_test = pd.DataFrame(num_si_test.fit_transform(num_feat_test), columns=num_feat_test_cols)\n",
    "cat_feat_test = pd.DataFrame(cat_si_test.fit_transform(cat_feat_test), columns=cat_feat_test_cols)\n",
    "\n",
    "# concatenating numerical and categorical features back together\n",
    "train_data = pd.concat([num_feat_train, cat_feat_train, train_target], axis=1)\n",
    "test_data = pd.concat([num_feat_test, cat_feat_test], axis=1)"
   ]
  },
  {
   "cell_type": "code",
   "execution_count": 13,
   "id": "db7bff7f",
   "metadata": {
    "scrolled": true
   },
   "outputs": [
    {
     "name": "stdout",
     "output_type": "stream",
     "text": [
      "Percentage of nulls in Train Data \n",
      " Age                   0.0\n",
      "RoomService           0.0\n",
      "FoodCourt             0.0\n",
      "ShoppingMall          0.0\n",
      "Spa                   0.0\n",
      "VRDeck                0.0\n",
      "HomePlanet            0.0\n",
      "CryoSleep             0.0\n",
      "Destination           0.0\n",
      "VIP                   0.0\n",
      "PassengerNumber       0.0\n",
      "GroupSize             0.0\n",
      "CabinDeck             0.0\n",
      "CabinSide             0.0\n",
      "GroupNumberBuckets    0.0\n",
      "CabinNumberBuckets    0.0\n",
      "Transported           0.0\n",
      "dtype: float64 \n",
      "\n",
      "Percentage of nulls in Test Data \n",
      " Age                   0.0\n",
      "RoomService           0.0\n",
      "FoodCourt             0.0\n",
      "ShoppingMall          0.0\n",
      "Spa                   0.0\n",
      "VRDeck                0.0\n",
      "HomePlanet            0.0\n",
      "CryoSleep             0.0\n",
      "Destination           0.0\n",
      "VIP                   0.0\n",
      "PassengerNumber       0.0\n",
      "GroupSize             0.0\n",
      "CabinDeck             0.0\n",
      "CabinSide             0.0\n",
      "GroupNumberBuckets    0.0\n",
      "CabinNumberBuckets    0.0\n",
      "dtype: float64\n"
     ]
    }
   ],
   "source": [
    "print('Percentage of nulls in Train Data', '\\n',train_data.isna().sum()/len(train_data) * 100,'\\n')\n",
    "print('Percentage of nulls in Test Data', '\\n',test_data.isna().sum()/len(test_data) * 100)"
   ]
  },
  {
   "cell_type": "code",
   "execution_count": null,
   "id": "816265fc",
   "metadata": {},
   "outputs": [],
   "source": []
  },
  {
   "cell_type": "code",
   "execution_count": 14,
   "id": "21711e19",
   "metadata": {},
   "outputs": [
    {
     "data": {
      "image/png": "[encoded data removed]",
      "text/plain": [
       "<Figure size 1400x700 with 2 Axes>"
      ]
     },
     "metadata": {},
     "output_type": "display_data"
    }
   ],
   "source": [
    "plt.figure(figsize=(14,7))\n",
    "sns.heatmap(num_feat_train.corr(), annot=True)\n",
    "plt.show()"
   ]
  },
  {
   "cell_type": "code",
   "execution_count": null,
   "id": "93794762",
   "metadata": {},
   "outputs": [],
   "source": []
  },
  {
   "cell_type": "code",
   "execution_count": 15,
   "id": "13f3ea64",
   "metadata": {},
   "outputs": [
    {
     "name": "stdout",
     "output_type": "stream",
     "text": [
      "VIF for column Age = 1.3838864528404007\n",
      "VIF for column RoomService = 1.1168200850984522\n",
      "VIF for column FoodCourt = 1.1951967929570602\n",
      "VIF for column ShoppingMall = 1.0792426203893426\n",
      "VIF for column Spa = 1.153295408454935\n",
      "VIF for column VRDeck = 1.1456372516555846\n"
     ]
    }
   ],
   "source": [
    "for i in range(num_feat_train.shape[1]):\n",
    "    print('VIF for column', num_feat_train.columns[i], '=', variance_inflation_factor(num_feat_train, i))"
   ]
  },
  {
   "cell_type": "code",
   "execution_count": 16,
   "id": "524c9fdf",
   "metadata": {},
   "outputs": [],
   "source": [
    "# All numerical features have a good VIF. I'll will not drop any of these columns"
   ]
  },
  {
   "cell_type": "code",
   "execution_count": null,
   "id": "a4afa6a7",
   "metadata": {},
   "outputs": [],
   "source": []
  },
  {
   "cell_type": "code",
   "execution_count": 17,
   "id": "d5ea1c51",
   "metadata": {
    "scrolled": true
   },
   "outputs": [
    {
     "name": "stdout",
     "output_type": "stream",
     "text": [
      "Age\n"
     ]
    },
    {
     "data": {
      "image/png": "[encoded data removed]",
      "text/plain": [
       "<Figure size 640x480 with 1 Axes>"
      ]
     },
     "metadata": {},
     "output_type": "display_data"
    },
    {
     "name": "stdout",
     "output_type": "stream",
     "text": [
      "RoomService\n"
     ]
    },
    {
     "data": {
      "image/png": "[encoded data removed]",
      "text/plain": [
       "<Figure size 640x480 with 1 Axes>"
      ]
     },
     "metadata": {},
     "output_type": "display_data"
    },
    {
     "name": "stdout",
     "output_type": "stream",
     "text": [
      "FoodCourt\n"
     ]
    },
    {
     "data": {
      "image/png": "[encoded data removed]",
      "text/plain": [
       "<Figure size 640x480 with 1 Axes>"
      ]
     },
     "metadata": {},
     "output_type": "display_data"
    },
    {
     "name": "stdout",
     "output_type": "stream",
     "text": [
      "ShoppingMall\n"
     ]
    },
    {
     "data": {
      "image/png": "[encoded data removed]",
      "text/plain": [
       "<Figure size 640x480 with 1 Axes>"
      ]
     },
     "metadata": {},
     "output_type": "display_data"
    },
    {
     "name": "stdout",
     "output_type": "stream",
     "text": [
      "Spa\n"
     ]
    },
    {
     "data": {
      "image/png": "[encoded data removed]",
      "text/plain": [
       "<Figure size 640x480 with 1 Axes>"
      ]
     },
     "metadata": {},
     "output_type": "display_data"
    },
    {
     "name": "stdout",
     "output_type": "stream",
     "text": [
      "VRDeck\n"
     ]
    },
    {
     "data": {
      "image/png": "[encoded data removed]",
      "text/plain": [
       "<Figure size 640x480 with 1 Axes>"
      ]
     },
     "metadata": {},
     "output_type": "display_data"
    }
   ],
   "source": [
    "for col in num_feat_train.columns:\n",
    "    print(col)\n",
    "    sns.distplot(num_feat_train[col])\n",
    "    plt.show()"
   ]
  },
  {
   "cell_type": "code",
   "execution_count": null,
   "id": "722ef53b",
   "metadata": {},
   "outputs": [],
   "source": []
  },
  {
   "cell_type": "code",
   "execution_count": 18,
   "id": "597a7316",
   "metadata": {
    "scrolled": true
   },
   "outputs": [],
   "source": [
    "#def log_transf(x):\n",
    "#    if x > 0:\n",
    "#        return np.log10(x)\n",
    "#    else:\n",
    "#        return np.log(x+1)\n",
    "    \n",
    "#for col in num_feat.drop('Age', axis=1).columns: # for loop to use the log transf on the skewed columns\n",
    "#    num_feat[col] = list(map(log_transf, num_feat[col]))\n",
    "#    print(col)\n",
    "#    sns.distplot(num_feat[col])\n",
    "#    plt.show()\n",
    "\n",
    "# using log transformation to reduce the skewness of the numerical columns didn't help to improve the accuracy of the model"
   ]
  },
  {
   "cell_type": "code",
   "execution_count": null,
   "id": "80825ac1",
   "metadata": {},
   "outputs": [],
   "source": []
  },
  {
   "cell_type": "code",
   "execution_count": null,
   "id": "0a3bf299",
   "metadata": {},
   "outputs": [],
   "source": []
  },
  {
   "cell_type": "code",
   "execution_count": null,
   "id": "d923dc0f",
   "metadata": {},
   "outputs": [],
   "source": []
  },
  {
   "cell_type": "code",
   "execution_count": 19,
   "id": "f8ddedf9",
   "metadata": {},
   "outputs": [
    {
     "data": {
      "text/plain": [
       "0.780411293133496"
      ]
     },
     "execution_count": 19,
     "metadata": {},
     "output_type": "execute_result"
    }
   ],
   "source": [
    "# just trying a quick logistic regression model to see what result i get\n",
    "\n",
    "encoder = pd.get_dummies(cat_feat_train, drop_first=True)\n",
    "scaler = Normalizer().fit_transform(num_feat_train)\n",
    "scaler = pd.DataFrame(scaler, columns=num_feat_train.columns)\n",
    "\n",
    "\n",
    "features = pd.concat([encoder, scaler], axis=1)\n",
    "target = train_data['Transported']\n",
    "\n",
    "X_train, X_test, y_train, y_test = train_test_split(features, target, test_size=0.33, random_state=42)\n",
    "\n",
    "log_reg = LogisticRegression()\n",
    "log_reg.fit(X_train, y_train)\n",
    "\n",
    "predictions = log_reg.predict(X_test)\n",
    "log_reg.score(X_test, y_test)"
   ]
  },
  {
   "cell_type": "code",
   "execution_count": null,
   "id": "7d6e81e5",
   "metadata": {},
   "outputs": [],
   "source": []
  },
  {
   "cell_type": "code",
   "execution_count": null,
   "id": "8d8b97f8",
   "metadata": {},
   "outputs": [],
   "source": []
  },
  {
   "cell_type": "code",
   "execution_count": 20,
   "id": "5f1e24d9",
   "metadata": {},
   "outputs": [
    {
     "name": "stdout",
     "output_type": "stream",
     "text": [
      "Max classification score using RFE: 0.780411293133496\n",
      "Columns used for this score: ['HomePlanet_Europa' 'HomePlanet_Mars' 'CryoSleep_True'\n",
      " 'Destination_PSO J318.5-22' 'Destination_TRAPPIST-1e' 'VIP_True'\n",
      " 'PassengerNumber_2 or 3' 'CabinDeck_B' 'CabinDeck_C' 'CabinDeck_D'\n",
      " 'CabinDeck_E' 'CabinDeck_G' 'CabinDeck_T' 'CabinSide_S'\n",
      " 'GroupNumberBuckets_Bucket 1' 'GroupNumberBuckets_Bucket 4'\n",
      " 'GroupNumberBuckets_Bucket 5' 'CabinNumberBuckets_Bucket 2'\n",
      " 'CabinNumberBuckets_Bucket 3' 'Age' 'RoomService' 'ShoppingMall' 'Spa'\n",
      " 'VRDeck']\n",
      "Number of columns used: 24\n"
     ]
    }
   ],
   "source": [
    "# trying RFE\n",
    "classification_score = []\n",
    "features_used = []\n",
    "\n",
    "lr = LogisticRegression()\n",
    "\n",
    "for i in np.arange(24):\n",
    "    selector = RFE(estimator=lr, n_features_to_select=i+1)\n",
    "    X_new = selector.fit_transform(X_train, y_train)\n",
    "    feature_names_out = selector.get_feature_names_out()\n",
    "    \n",
    "    features_used.append(feature_names_out)\n",
    "    \n",
    "    log_reg = LogisticRegression()\n",
    "    log_reg.fit(X_new, y_train)\n",
    "\n",
    "    classification_score.append(log_reg.score(X_test[feature_names_out], y_test))\n",
    "    \n",
    "max_clf_ind = classification_score.index(max(classification_score))\n",
    "    \n",
    "print('Max classification score using RFE:',classification_score[max_clf_ind])\n",
    "print('Columns used for this score:', features_used[max_clf_ind])\n",
    "print('Number of columns used:', len(features_used[max_clf_ind]))"
   ]
  },
  {
   "cell_type": "code",
   "execution_count": null,
   "id": "bf29d65d",
   "metadata": {},
   "outputs": [],
   "source": []
  },
  {
   "cell_type": "code",
   "execution_count": 21,
   "id": "524ea762",
   "metadata": {},
   "outputs": [
    {
     "name": "stdout",
     "output_type": "stream",
     "text": [
      "Max classification score using SelectKBest: 0.7811084001394214\n",
      "Columns used for this score: ['HomePlanet_Europa' 'CryoSleep_True' 'Destination_TRAPPIST-1e' 'VIP_True'\n",
      " 'PassengerNumber_2 or 3' 'GroupSize_2 or 3' 'GroupSize_4+' 'CabinDeck_B'\n",
      " 'CabinDeck_C' 'CabinDeck_D' 'CabinDeck_E' 'CabinDeck_F' 'CabinSide_S'\n",
      " 'GroupNumberBuckets_Bucket 1' 'GroupNumberBuckets_Bucket 3'\n",
      " 'GroupNumberBuckets_Bucket 5' 'CabinNumberBuckets_Bucket 1'\n",
      " 'CabinNumberBuckets_Bucket 2' 'CabinNumberBuckets_Bucket 4'\n",
      " 'CabinNumberBuckets_Bucket 5' 'Age' 'RoomService' 'Spa' 'VRDeck']\n",
      "Number of columns used: 24\n"
     ]
    }
   ],
   "source": [
    "# trying SelectKBest\n",
    "classification_score_2 = []\n",
    "features_used_2 = []\n",
    "\n",
    "for i in np.arange(24):\n",
    "    kbest_selector = SelectKBest(score_func=chi2, k=i+1)\n",
    "    X_new_k = kbest_selector.fit_transform(X_train, y_train)\n",
    "    feature_names_out = kbest_selector.get_feature_names_out()\n",
    "    \n",
    "    features_used_2.append(feature_names_out)\n",
    "    \n",
    "    log_reg = LogisticRegression()\n",
    "    log_reg.fit(X_new_k, y_train)\n",
    "\n",
    "    classification_score_2.append(log_reg.score(X_test[feature_names_out], y_test))\n",
    "\n",
    "max_clf_2_ind = classification_score_2.index(max(classification_score_2))\n",
    "    \n",
    "print('Max classification score using SelectKBest:',classification_score_2[max_clf_2_ind])\n",
    "print('Columns used for this score:', features_used_2[max_clf_2_ind])\n",
    "print('Number of columns used:', len(features_used_2[max_clf_2_ind]))"
   ]
  },
  {
   "cell_type": "code",
   "execution_count": null,
   "id": "fa232760",
   "metadata": {},
   "outputs": [],
   "source": []
  },
  {
   "cell_type": "code",
   "execution_count": 22,
   "id": "7d26e4f5",
   "metadata": {},
   "outputs": [
    {
     "data": {
      "text/html": [
       "<style>#sk-container-id-1 {color: black;background-color: white;}#sk-container-id-1 pre{padding: 0;}#sk-container-id-1 div.sk-toggleable {background-color: white;}#sk-container-id-1 label.sk-toggleable__label {cursor: pointer;display: block;width: 100%;margin-bottom: 0;padding: 0.3em;box-sizing: border-box;text-align: center;}#sk-container-id-1 label.sk-toggleable__label-arrow:before {content: \"▸\";float: left;margin-right: 0.25em;color: #696969;}#sk-container-id-1 label.sk-toggleable__label-arrow:hover:before {color: black;}#sk-container-id-1 div.sk-estimator:hover label.sk-toggleable__label-arrow:before {color: black;}#sk-container-id-1 div.sk-toggleable__content {max-height: 0;max-width: 0;overflow: hidden;text-align: left;background-color: #f0f8ff;}#sk-container-id-1 div.sk-toggleable__content pre {margin: 0.2em;color: black;border-radius: 0.25em;background-color: #f0f8ff;}#sk-container-id-1 input.sk-toggleable__control:checked~div.sk-toggleable__content {max-height: 200px;max-width: 100%;overflow: auto;}#sk-container-id-1 input.sk-toggleable__control:checked~label.sk-toggleable__label-arrow:before {content: \"▾\";}#sk-container-id-1 div.sk-estimator input.sk-toggleable__control:checked~label.sk-toggleable__label {background-color: #d4ebff;}#sk-container-id-1 div.sk-label input.sk-toggleable__control:checked~label.sk-toggleable__label {background-color: #d4ebff;}#sk-container-id-1 input.sk-hidden--visually {border: 0;clip: rect(1px 1px 1px 1px);clip: rect(1px, 1px, 1px, 1px);height: 1px;margin: -1px;overflow: hidden;padding: 0;position: absolute;width: 1px;}#sk-container-id-1 div.sk-estimator {font-family: monospace;background-color: #f0f8ff;border: 1px dotted black;border-radius: 0.25em;box-sizing: border-box;margin-bottom: 0.5em;}#sk-container-id-1 div.sk-estimator:hover {background-color: #d4ebff;}#sk-container-id-1 div.sk-parallel-item::after {content: \"\";width: 100%;border-bottom: 1px solid gray;flex-grow: 1;}#sk-container-id-1 div.sk-label:hover label.sk-toggleable__label {background-color: #d4ebff;}#sk-container-id-1 div.sk-serial::before {content: \"\";position: absolute;border-left: 1px solid gray;box-sizing: border-box;top: 0;bottom: 0;left: 50%;z-index: 0;}#sk-container-id-1 div.sk-serial {display: flex;flex-direction: column;align-items: center;background-color: white;padding-right: 0.2em;padding-left: 0.2em;position: relative;}#sk-container-id-1 div.sk-item {position: relative;z-index: 1;}#sk-container-id-1 div.sk-parallel {display: flex;align-items: stretch;justify-content: center;background-color: white;position: relative;}#sk-container-id-1 div.sk-item::before, #sk-container-id-1 div.sk-parallel-item::before {content: \"\";position: absolute;border-left: 1px solid gray;box-sizing: border-box;top: 0;bottom: 0;left: 50%;z-index: -1;}#sk-container-id-1 div.sk-parallel-item {display: flex;flex-direction: column;z-index: 1;position: relative;background-color: white;}#sk-container-id-1 div.sk-parallel-item:first-child::after {align-self: flex-end;width: 50%;}#sk-container-id-1 div.sk-parallel-item:last-child::after {align-self: flex-start;width: 50%;}#sk-container-id-1 div.sk-parallel-item:only-child::after {width: 0;}#sk-container-id-1 div.sk-dashed-wrapped {border: 1px dashed gray;margin: 0 0.4em 0.5em 0.4em;box-sizing: border-box;padding-bottom: 0.4em;background-color: white;}#sk-container-id-1 div.sk-label label {font-family: monospace;font-weight: bold;display: inline-block;line-height: 1.2em;}#sk-container-id-1 div.sk-label-container {text-align: center;}#sk-container-id-1 div.sk-container {/* jupyter's `normalize.less` sets `[hidden] { display: none; }` but bootstrap.min.css set `[hidden] { display: none !important; }` so we also need the `!important` here to be able to override the default hidden behavior on the sphinx rendered scikit-learn.org. See: https://github.com/scikit-learn/scikit-learn/issues/21755 */display: inline-block !important;position: relative;}#sk-container-id-1 div.sk-text-repr-fallback {display: none;}</style><div id=\"sk-container-id-1\" class=\"sk-top-container\"><div class=\"sk-text-repr-fallback\"><pre>GridSearchCV(cv=5, estimator=DecisionTreeClassifier(),\n",
       "             param_grid={&#x27;max_depth&#x27;: [4, 5, 6, 10, None],\n",
       "                         &#x27;max_features&#x27;: [&#x27;sqrt&#x27;, &#x27;log2&#x27;, None],\n",
       "                         &#x27;min_samples_leaf&#x27;: [1, 2],\n",
       "                         &#x27;min_samples_split&#x27;: [2, 3]})</pre><b>In a Jupyter environment, please rerun this cell to show the HTML representation or trust the notebook. <br />On GitHub, the HTML representation is unable to render, please try loading this page with nbviewer.org.</b></div><div class=\"sk-container\" hidden><div class=\"sk-item sk-dashed-wrapped\"><div class=\"sk-label-container\"><div class=\"sk-label sk-toggleable\"><input class=\"sk-toggleable__control sk-hidden--visually\" id=\"sk-estimator-id-1\" type=\"checkbox\" ><label for=\"sk-estimator-id-1\" class=\"sk-toggleable__label sk-toggleable__label-arrow\">GridSearchCV</label><div class=\"sk-toggleable__content\"><pre>GridSearchCV(cv=5, estimator=DecisionTreeClassifier(),\n",
       "             param_grid={&#x27;max_depth&#x27;: [4, 5, 6, 10, None],\n",
       "                         &#x27;max_features&#x27;: [&#x27;sqrt&#x27;, &#x27;log2&#x27;, None],\n",
       "                         &#x27;min_samples_leaf&#x27;: [1, 2],\n",
       "                         &#x27;min_samples_split&#x27;: [2, 3]})</pre></div></div></div><div class=\"sk-parallel\"><div class=\"sk-parallel-item\"><div class=\"sk-item\"><div class=\"sk-label-container\"><div class=\"sk-label sk-toggleable\"><input class=\"sk-toggleable__control sk-hidden--visually\" id=\"sk-estimator-id-2\" type=\"checkbox\" ><label for=\"sk-estimator-id-2\" class=\"sk-toggleable__label sk-toggleable__label-arrow\">estimator: DecisionTreeClassifier</label><div class=\"sk-toggleable__content\"><pre>DecisionTreeClassifier()</pre></div></div></div><div class=\"sk-serial\"><div class=\"sk-item\"><div class=\"sk-estimator sk-toggleable\"><input class=\"sk-toggleable__control sk-hidden--visually\" id=\"sk-estimator-id-3\" type=\"checkbox\" ><label for=\"sk-estimator-id-3\" class=\"sk-toggleable__label sk-toggleable__label-arrow\">DecisionTreeClassifier</label><div class=\"sk-toggleable__content\"><pre>DecisionTreeClassifier()</pre></div></div></div></div></div></div></div></div></div></div>"
      ],
      "text/plain": [
       "GridSearchCV(cv=5, estimator=DecisionTreeClassifier(),\n",
       "             param_grid={'max_depth': [4, 5, 6, 10, None],\n",
       "                         'max_features': ['sqrt', 'log2', None],\n",
       "                         'min_samples_leaf': [1, 2],\n",
       "                         'min_samples_split': [2, 3]})"
      ]
     },
     "execution_count": 22,
     "metadata": {},
     "output_type": "execute_result"
    }
   ],
   "source": [
    "# Trying GridSearchCV\n",
    "\n",
    "param_grid = {\n",
    "    'max_depth': [4, 5, 6, 10, None],\n",
    "    'max_features': ['sqrt', 'log2', None],\n",
    "    'min_samples_split': [2, 3],\n",
    "    'min_samples_leaf': [1, 2]\n",
    "}\n",
    "\n",
    "X_train, X_test, y_train, y_test = train_test_split(features, target, test_size=0.33, random_state=42)\n",
    "\n",
    "dt = DecisionTreeClassifier()\n",
    "grid_search = GridSearchCV(dt, param_grid, cv=5)\n",
    "grid_search.fit(X_train, y_train)"
   ]
  },
  {
   "cell_type": "code",
   "execution_count": 23,
   "id": "3cee2b71",
   "metadata": {},
   "outputs": [
    {
     "data": {
      "text/plain": [
       "{'max_depth': 6,\n",
       " 'max_features': None,\n",
       " 'min_samples_leaf': 2,\n",
       " 'min_samples_split': 3}"
      ]
     },
     "execution_count": 23,
     "metadata": {},
     "output_type": "execute_result"
    }
   ],
   "source": [
    "param = grid_search.best_params_\n",
    "param"
   ]
  },
  {
   "cell_type": "code",
   "execution_count": 24,
   "id": "dae106fc",
   "metadata": {},
   "outputs": [
    {
     "data": {
      "text/html": [
       "<style>#sk-container-id-2 {color: black;background-color: white;}#sk-container-id-2 pre{padding: 0;}#sk-container-id-2 div.sk-toggleable {background-color: white;}#sk-container-id-2 label.sk-toggleable__label {cursor: pointer;display: block;width: 100%;margin-bottom: 0;padding: 0.3em;box-sizing: border-box;text-align: center;}#sk-container-id-2 label.sk-toggleable__label-arrow:before {content: \"▸\";float: left;margin-right: 0.25em;color: #696969;}#sk-container-id-2 label.sk-toggleable__label-arrow:hover:before {color: black;}#sk-container-id-2 div.sk-estimator:hover label.sk-toggleable__label-arrow:before {color: black;}#sk-container-id-2 div.sk-toggleable__content {max-height: 0;max-width: 0;overflow: hidden;text-align: left;background-color: #f0f8ff;}#sk-container-id-2 div.sk-toggleable__content pre {margin: 0.2em;color: black;border-radius: 0.25em;background-color: #f0f8ff;}#sk-container-id-2 input.sk-toggleable__control:checked~div.sk-toggleable__content {max-height: 200px;max-width: 100%;overflow: auto;}#sk-container-id-2 input.sk-toggleable__control:checked~label.sk-toggleable__label-arrow:before {content: \"▾\";}#sk-container-id-2 div.sk-estimator input.sk-toggleable__control:checked~label.sk-toggleable__label {background-color: #d4ebff;}#sk-container-id-2 div.sk-label input.sk-toggleable__control:checked~label.sk-toggleable__label {background-color: #d4ebff;}#sk-container-id-2 input.sk-hidden--visually {border: 0;clip: rect(1px 1px 1px 1px);clip: rect(1px, 1px, 1px, 1px);height: 1px;margin: -1px;overflow: hidden;padding: 0;position: absolute;width: 1px;}#sk-container-id-2 div.sk-estimator {font-family: monospace;background-color: #f0f8ff;border: 1px dotted black;border-radius: 0.25em;box-sizing: border-box;margin-bottom: 0.5em;}#sk-container-id-2 div.sk-estimator:hover {background-color: #d4ebff;}#sk-container-id-2 div.sk-parallel-item::after {content: \"\";width: 100%;border-bottom: 1px solid gray;flex-grow: 1;}#sk-container-id-2 div.sk-label:hover label.sk-toggleable__label {background-color: #d4ebff;}#sk-container-id-2 div.sk-serial::before {content: \"\";position: absolute;border-left: 1px solid gray;box-sizing: border-box;top: 0;bottom: 0;left: 50%;z-index: 0;}#sk-container-id-2 div.sk-serial {display: flex;flex-direction: column;align-items: center;background-color: white;padding-right: 0.2em;padding-left: 0.2em;position: relative;}#sk-container-id-2 div.sk-item {position: relative;z-index: 1;}#sk-container-id-2 div.sk-parallel {display: flex;align-items: stretch;justify-content: center;background-color: white;position: relative;}#sk-container-id-2 div.sk-item::before, #sk-container-id-2 div.sk-parallel-item::before {content: \"\";position: absolute;border-left: 1px solid gray;box-sizing: border-box;top: 0;bottom: 0;left: 50%;z-index: -1;}#sk-container-id-2 div.sk-parallel-item {display: flex;flex-direction: column;z-index: 1;position: relative;background-color: white;}#sk-container-id-2 div.sk-parallel-item:first-child::after {align-self: flex-end;width: 50%;}#sk-container-id-2 div.sk-parallel-item:last-child::after {align-self: flex-start;width: 50%;}#sk-container-id-2 div.sk-parallel-item:only-child::after {width: 0;}#sk-container-id-2 div.sk-dashed-wrapped {border: 1px dashed gray;margin: 0 0.4em 0.5em 0.4em;box-sizing: border-box;padding-bottom: 0.4em;background-color: white;}#sk-container-id-2 div.sk-label label {font-family: monospace;font-weight: bold;display: inline-block;line-height: 1.2em;}#sk-container-id-2 div.sk-label-container {text-align: center;}#sk-container-id-2 div.sk-container {/* jupyter's `normalize.less` sets `[hidden] { display: none; }` but bootstrap.min.css set `[hidden] { display: none !important; }` so we also need the `!important` here to be able to override the default hidden behavior on the sphinx rendered scikit-learn.org. See: https://github.com/scikit-learn/scikit-learn/issues/21755 */display: inline-block !important;position: relative;}#sk-container-id-2 div.sk-text-repr-fallback {display: none;}</style><div id=\"sk-container-id-2\" class=\"sk-top-container\"><div class=\"sk-text-repr-fallback\"><pre>DecisionTreeClassifier(max_depth=6, min_samples_leaf=2, min_samples_split=3)</pre><b>In a Jupyter environment, please rerun this cell to show the HTML representation or trust the notebook. <br />On GitHub, the HTML representation is unable to render, please try loading this page with nbviewer.org.</b></div><div class=\"sk-container\" hidden><div class=\"sk-item\"><div class=\"sk-estimator sk-toggleable\"><input class=\"sk-toggleable__control sk-hidden--visually\" id=\"sk-estimator-id-4\" type=\"checkbox\" checked><label for=\"sk-estimator-id-4\" class=\"sk-toggleable__label sk-toggleable__label-arrow\">DecisionTreeClassifier</label><div class=\"sk-toggleable__content\"><pre>DecisionTreeClassifier(max_depth=6, min_samples_leaf=2, min_samples_split=3)</pre></div></div></div></div></div>"
      ],
      "text/plain": [
       "DecisionTreeClassifier(max_depth=6, min_samples_leaf=2, min_samples_split=3)"
      ]
     },
     "execution_count": 24,
     "metadata": {},
     "output_type": "execute_result"
    }
   ],
   "source": [
    "dt = DecisionTreeClassifier(max_depth=param['max_depth'], max_features=param['max_features'],\n",
    "                            min_samples_leaf=param['min_samples_leaf'], min_samples_split=param['min_samples_split'])\n",
    "dt.fit(X_train, y_train)"
   ]
  },
  {
   "cell_type": "code",
   "execution_count": 25,
   "id": "b4042e32",
   "metadata": {},
   "outputs": [
    {
     "name": "stdout",
     "output_type": "stream",
     "text": [
      "test 0.7835482746601603\n",
      "train 0.8087225274725275\n"
     ]
    }
   ],
   "source": [
    "print('test', dt.score(X_test, y_test))\n",
    "print('train', dt.score(X_train, y_train)) # max_depth=6, max_features=None, min_samples_leaf=2, min_samples_split=3"
   ]
  },
  {
   "cell_type": "code",
   "execution_count": 26,
   "id": "1083285a",
   "metadata": {},
   "outputs": [
    {
     "name": "stdout",
     "output_type": "stream",
     "text": [
      "Accuracy of each fold: [0.78626609 0.76566524 0.7888412  0.77339056 0.79810997]\n",
      "Average accuracy: 0.7824546111528988\n"
     ]
    }
   ],
   "source": [
    "# cross validation\n",
    "dt = DecisionTreeClassifier(max_depth=param['max_depth'], max_features=param['max_features'],\n",
    "                            min_samples_leaf=param['min_samples_leaf'], min_samples_split=param['min_samples_split'])\n",
    "cross_val_scores = cross_val_score(dt, X_train, y_train, cv=5)\n",
    "print('Accuracy of each fold:', cross_val_scores)\n",
    "print('Average accuracy:', np.mean(cross_val_scores))"
   ]
  },
  {
   "cell_type": "code",
   "execution_count": null,
   "id": "3fac4b84",
   "metadata": {},
   "outputs": [],
   "source": []
  },
  {
   "cell_type": "markdown",
   "id": "f739f635",
   "metadata": {},
   "source": [
    "### Comparing different models"
   ]
  },
  {
   "cell_type": "code",
   "execution_count": 27,
   "id": "22afc11a",
   "metadata": {},
   "outputs": [],
   "source": [
    "train_features = train_data.drop('Transported', axis=1)\n",
    "train_target = train_data['Transported']\n",
    "\n",
    "num_feat_train = train_features.select_dtypes(np.number)\n",
    "cat_feat_train = train_features.select_dtypes(np.object)\n",
    "\n",
    "train_encoder = OneHotEncoder(drop='first').fit(cat_feat_train)\n",
    "encoded = pd.DataFrame(train_encoder.transform(cat_feat_train).toarray(), columns=train_encoder.get_feature_names_out())\n",
    "\n",
    "train_scaler = Normalizer().fit(num_feat_train)\n",
    "scaled = pd.DataFrame(train_scaler.transform(num_feat_train), columns=train_scaler.get_feature_names_out())\n",
    "\n",
    "train_features = pd.concat([encoded, scaled], axis=1)\n",
    "\n",
    "X_train, X_validation, y_train, y_validation = train_test_split(train_features, train_target, test_size=0.3, random_state=42)"
   ]
  },
  {
   "cell_type": "code",
   "execution_count": 33,
   "id": "01f488a7",
   "metadata": {},
   "outputs": [],
   "source": [
    "classification_score = []\n",
    "features_used = []\n",
    "\n",
    "for i in range(X_train.shape[1]):\n",
    "    kbest_selector = SelectKBest(score_func=chi2, k=i+1)\n",
    "    X_new_k = kbest_selector.fit_transform(X_train, y_train)\n",
    "    feature_names_out = kbest_selector.get_feature_names_out()\n",
    "    \n",
    "    features_used.append(feature_names_out)\n",
    "    \n",
    "    log_reg = LogisticRegression()\n",
    "    log_reg.fit(X_new_k, y_train)\n",
    "\n",
    "    classification_score.append(log_reg.score(X_test[feature_names_out], y_test))\n",
    "\n",
    "max_clf_ind = classification_score.index(max(classification_score))\n",
    "features_used_to_max = features_used[max_clf_ind]"
   ]
  },
  {
   "cell_type": "markdown",
   "id": "ec427776",
   "metadata": {},
   "source": [
    "#### Logistic Regression"
   ]
  },
  {
   "cell_type": "code",
   "execution_count": 35,
   "id": "6a55d7c0",
   "metadata": {},
   "outputs": [
    {
     "name": "stdout",
     "output_type": "stream",
     "text": [
      "Classification score = 0.7841257668711656\n"
     ]
    },
    {
     "data": {
      "image/png": "[encoded data removed]",
      "text/plain": [
       "<Figure size 640x480 with 2 Axes>"
      ]
     },
     "metadata": {},
     "output_type": "display_data"
    }
   ],
   "source": [
    "lr = LogisticRegression()\n",
    "lr.fit(X_train[features_used_to_max], y_train)\n",
    "lr_score = lr.score(X_validation[features_used_to_max], y_validation)\n",
    "\n",
    "print('Classification score =', lr_score)\n",
    "\n",
    "lr_prediction = lr.predict(X_validation[features_used_to_max])\n",
    "\n",
    "lr_cm = ConfusionMatrixDisplay(confusion_matrix(y_validation, lr_prediction), display_labels=['No', 'Yes']).plot()\n",
    "lr_cm\n",
    "plt.show()"
   ]
  },
  {
   "cell_type": "code",
   "execution_count": 36,
   "id": "66f2e235",
   "metadata": {},
   "outputs": [],
   "source": [
    "lr_predictions_prob = lr.predict_proba(X_validation[features_used_to_max])[:,1]\n",
    "\n",
    "fpr_lr, tpr_lr, thresholds_lr = roc_curve(y_validation, lr_predictions_prob, pos_label='True')\n",
    "\n",
    "roc_auc_lr = auc(fpr_lr, tpr_lr)"
   ]
  },
  {
   "cell_type": "markdown",
   "id": "1f0ebe45",
   "metadata": {},
   "source": [
    "#### KNN"
   ]
  },
  {
   "cell_type": "code",
   "execution_count": 43,
   "id": "be5fc412",
   "metadata": {},
   "outputs": [
    {
     "data": {
      "text/html": [
       "<style>#sk-container-id-5 {color: black;background-color: white;}#sk-container-id-5 pre{padding: 0;}#sk-container-id-5 div.sk-toggleable {background-color: white;}#sk-container-id-5 label.sk-toggleable__label {cursor: pointer;display: block;width: 100%;margin-bottom: 0;padding: 0.3em;box-sizing: border-box;text-align: center;}#sk-container-id-5 label.sk-toggleable__label-arrow:before {content: \"▸\";float: left;margin-right: 0.25em;color: #696969;}#sk-container-id-5 label.sk-toggleable__label-arrow:hover:before {color: black;}#sk-container-id-5 div.sk-estimator:hover label.sk-toggleable__label-arrow:before {color: black;}#sk-container-id-5 div.sk-toggleable__content {max-height: 0;max-width: 0;overflow: hidden;text-align: left;background-color: #f0f8ff;}#sk-container-id-5 div.sk-toggleable__content pre {margin: 0.2em;color: black;border-radius: 0.25em;background-color: #f0f8ff;}#sk-container-id-5 input.sk-toggleable__control:checked~div.sk-toggleable__content {max-height: 200px;max-width: 100%;overflow: auto;}#sk-container-id-5 input.sk-toggleable__control:checked~label.sk-toggleable__label-arrow:before {content: \"▾\";}#sk-container-id-5 div.sk-estimator input.sk-toggleable__control:checked~label.sk-toggleable__label {background-color: #d4ebff;}#sk-container-id-5 div.sk-label input.sk-toggleable__control:checked~label.sk-toggleable__label {background-color: #d4ebff;}#sk-container-id-5 input.sk-hidden--visually {border: 0;clip: rect(1px 1px 1px 1px);clip: rect(1px, 1px, 1px, 1px);height: 1px;margin: -1px;overflow: hidden;padding: 0;position: absolute;width: 1px;}#sk-container-id-5 div.sk-estimator {font-family: monospace;background-color: #f0f8ff;border: 1px dotted black;border-radius: 0.25em;box-sizing: border-box;margin-bottom: 0.5em;}#sk-container-id-5 div.sk-estimator:hover {background-color: #d4ebff;}#sk-container-id-5 div.sk-parallel-item::after {content: \"\";width: 100%;border-bottom: 1px solid gray;flex-grow: 1;}#sk-container-id-5 div.sk-label:hover label.sk-toggleable__label {background-color: #d4ebff;}#sk-container-id-5 div.sk-serial::before {content: \"\";position: absolute;border-left: 1px solid gray;box-sizing: border-box;top: 0;bottom: 0;left: 50%;z-index: 0;}#sk-container-id-5 div.sk-serial {display: flex;flex-direction: column;align-items: center;background-color: white;padding-right: 0.2em;padding-left: 0.2em;position: relative;}#sk-container-id-5 div.sk-item {position: relative;z-index: 1;}#sk-container-id-5 div.sk-parallel {display: flex;align-items: stretch;justify-content: center;background-color: white;position: relative;}#sk-container-id-5 div.sk-item::before, #sk-container-id-5 div.sk-parallel-item::before {content: \"\";position: absolute;border-left: 1px solid gray;box-sizing: border-box;top: 0;bottom: 0;left: 50%;z-index: -1;}#sk-container-id-5 div.sk-parallel-item {display: flex;flex-direction: column;z-index: 1;position: relative;background-color: white;}#sk-container-id-5 div.sk-parallel-item:first-child::after {align-self: flex-end;width: 50%;}#sk-container-id-5 div.sk-parallel-item:last-child::after {align-self: flex-start;width: 50%;}#sk-container-id-5 div.sk-parallel-item:only-child::after {width: 0;}#sk-container-id-5 div.sk-dashed-wrapped {border: 1px dashed gray;margin: 0 0.4em 0.5em 0.4em;box-sizing: border-box;padding-bottom: 0.4em;background-color: white;}#sk-container-id-5 div.sk-label label {font-family: monospace;font-weight: bold;display: inline-block;line-height: 1.2em;}#sk-container-id-5 div.sk-label-container {text-align: center;}#sk-container-id-5 div.sk-container {/* jupyter's `normalize.less` sets `[hidden] { display: none; }` but bootstrap.min.css set `[hidden] { display: none !important; }` so we also need the `!important` here to be able to override the default hidden behavior on the sphinx rendered scikit-learn.org. See: https://github.com/scikit-learn/scikit-learn/issues/21755 */display: inline-block !important;position: relative;}#sk-container-id-5 div.sk-text-repr-fallback {display: none;}</style><div id=\"sk-container-id-5\" class=\"sk-top-container\"><div class=\"sk-text-repr-fallback\"><pre>GridSearchCV(cv=5, estimator=KNeighborsClassifier(),\n",
       "             param_grid={&#x27;n_neighbors&#x27;: [5, 10, 20, 30, 40, 50],\n",
       "                         &#x27;weights&#x27;: [&#x27;uniform&#x27;, &#x27;distance&#x27;]})</pre><b>In a Jupyter environment, please rerun this cell to show the HTML representation or trust the notebook. <br />On GitHub, the HTML representation is unable to render, please try loading this page with nbviewer.org.</b></div><div class=\"sk-container\" hidden><div class=\"sk-item sk-dashed-wrapped\"><div class=\"sk-label-container\"><div class=\"sk-label sk-toggleable\"><input class=\"sk-toggleable__control sk-hidden--visually\" id=\"sk-estimator-id-11\" type=\"checkbox\" ><label for=\"sk-estimator-id-11\" class=\"sk-toggleable__label sk-toggleable__label-arrow\">GridSearchCV</label><div class=\"sk-toggleable__content\"><pre>GridSearchCV(cv=5, estimator=KNeighborsClassifier(),\n",
       "             param_grid={&#x27;n_neighbors&#x27;: [5, 10, 20, 30, 40, 50],\n",
       "                         &#x27;weights&#x27;: [&#x27;uniform&#x27;, &#x27;distance&#x27;]})</pre></div></div></div><div class=\"sk-parallel\"><div class=\"sk-parallel-item\"><div class=\"sk-item\"><div class=\"sk-label-container\"><div class=\"sk-label sk-toggleable\"><input class=\"sk-toggleable__control sk-hidden--visually\" id=\"sk-estimator-id-12\" type=\"checkbox\" ><label for=\"sk-estimator-id-12\" class=\"sk-toggleable__label sk-toggleable__label-arrow\">estimator: KNeighborsClassifier</label><div class=\"sk-toggleable__content\"><pre>KNeighborsClassifier()</pre></div></div></div><div class=\"sk-serial\"><div class=\"sk-item\"><div class=\"sk-estimator sk-toggleable\"><input class=\"sk-toggleable__control sk-hidden--visually\" id=\"sk-estimator-id-13\" type=\"checkbox\" ><label for=\"sk-estimator-id-13\" class=\"sk-toggleable__label sk-toggleable__label-arrow\">KNeighborsClassifier</label><div class=\"sk-toggleable__content\"><pre>KNeighborsClassifier()</pre></div></div></div></div></div></div></div></div></div></div>"
      ],
      "text/plain": [
       "GridSearchCV(cv=5, estimator=KNeighborsClassifier(),\n",
       "             param_grid={'n_neighbors': [5, 10, 20, 30, 40, 50],\n",
       "                         'weights': ['uniform', 'distance']})"
      ]
     },
     "execution_count": 43,
     "metadata": {},
     "output_type": "execute_result"
    }
   ],
   "source": [
    "param_grid = {\n",
    "    'n_neighbors': [5, 10, 20, 30, 40, 50],\n",
    "    'weights': ['uniform', 'distance'],\n",
    "}\n",
    "\n",
    "knn = KNeighborsClassifier()\n",
    "grid_search = GridSearchCV(knn, param_grid, cv=5)\n",
    "grid_search.fit(X_train[features_used_to_max], y_train)"
   ]
  },
  {
   "cell_type": "code",
   "execution_count": 44,
   "id": "c1c529f6",
   "metadata": {},
   "outputs": [],
   "source": [
    "knn_params = grid_search.best_params_"
   ]
  },
  {
   "cell_type": "code",
   "execution_count": 46,
   "id": "50b28613",
   "metadata": {},
   "outputs": [
    {
     "name": "stdout",
     "output_type": "stream",
     "text": [
      "Classification score = 0.7664877300613497\n"
     ]
    },
    {
     "data": {
      "image/png": "[encoded data removed]",
      "text/plain": [
       "<Figure size 640x480 with 2 Axes>"
      ]
     },
     "metadata": {},
     "output_type": "display_data"
    }
   ],
   "source": [
    "knn = KNeighborsClassifier(n_neighbors=params['n_neighbors'], weights=params['weights'])\n",
    "knn.fit(X_train[features_used_to_max], y_train)\n",
    "knn_score = knn.score(X_validation[features_used_to_max], y_validation)\n",
    "print('Classification score =', knn_score)\n",
    "\n",
    "knn_prediction = knn.predict(X_validation[features_used_to_max])\n",
    "\n",
    "knn_cm = ConfusionMatrixDisplay(confusion_matrix(y_validation, knn_prediction), display_labels=['No', 'Yes']).plot()\n",
    "knn_cm\n",
    "plt.show()"
   ]
  },
  {
   "cell_type": "code",
   "execution_count": 47,
   "id": "b78d6f03",
   "metadata": {},
   "outputs": [],
   "source": [
    "knn_predictions_prob = knn.predict_proba(X_validation[features_used_to_max])[:,1]\n",
    "\n",
    "fpr_knn, tpr_knn, thresholds_knn = roc_curve(y_validation, knn_predictions_prob, pos_label='True')\n",
    "\n",
    "roc_auc_knn = auc(fpr_knn, tpr_knn)"
   ]
  },
  {
   "cell_type": "markdown",
   "id": "64f1babb",
   "metadata": {},
   "source": [
    "#### Decision Tree"
   ]
  },
  {
   "cell_type": "code",
   "execution_count": 49,
   "id": "490c8893",
   "metadata": {},
   "outputs": [
    {
     "data": {
      "text/html": [
       "<style>#sk-container-id-6 {color: black;background-color: white;}#sk-container-id-6 pre{padding: 0;}#sk-container-id-6 div.sk-toggleable {background-color: white;}#sk-container-id-6 label.sk-toggleable__label {cursor: pointer;display: block;width: 100%;margin-bottom: 0;padding: 0.3em;box-sizing: border-box;text-align: center;}#sk-container-id-6 label.sk-toggleable__label-arrow:before {content: \"▸\";float: left;margin-right: 0.25em;color: #696969;}#sk-container-id-6 label.sk-toggleable__label-arrow:hover:before {color: black;}#sk-container-id-6 div.sk-estimator:hover label.sk-toggleable__label-arrow:before {color: black;}#sk-container-id-6 div.sk-toggleable__content {max-height: 0;max-width: 0;overflow: hidden;text-align: left;background-color: #f0f8ff;}#sk-container-id-6 div.sk-toggleable__content pre {margin: 0.2em;color: black;border-radius: 0.25em;background-color: #f0f8ff;}#sk-container-id-6 input.sk-toggleable__control:checked~div.sk-toggleable__content {max-height: 200px;max-width: 100%;overflow: auto;}#sk-container-id-6 input.sk-toggleable__control:checked~label.sk-toggleable__label-arrow:before {content: \"▾\";}#sk-container-id-6 div.sk-estimator input.sk-toggleable__control:checked~label.sk-toggleable__label {background-color: #d4ebff;}#sk-container-id-6 div.sk-label input.sk-toggleable__control:checked~label.sk-toggleable__label {background-color: #d4ebff;}#sk-container-id-6 input.sk-hidden--visually {border: 0;clip: rect(1px 1px 1px 1px);clip: rect(1px, 1px, 1px, 1px);height: 1px;margin: -1px;overflow: hidden;padding: 0;position: absolute;width: 1px;}#sk-container-id-6 div.sk-estimator {font-family: monospace;background-color: #f0f8ff;border: 1px dotted black;border-radius: 0.25em;box-sizing: border-box;margin-bottom: 0.5em;}#sk-container-id-6 div.sk-estimator:hover {background-color: #d4ebff;}#sk-container-id-6 div.sk-parallel-item::after {content: \"\";width: 100%;border-bottom: 1px solid gray;flex-grow: 1;}#sk-container-id-6 div.sk-label:hover label.sk-toggleable__label {background-color: #d4ebff;}#sk-container-id-6 div.sk-serial::before {content: \"\";position: absolute;border-left: 1px solid gray;box-sizing: border-box;top: 0;bottom: 0;left: 50%;z-index: 0;}#sk-container-id-6 div.sk-serial {display: flex;flex-direction: column;align-items: center;background-color: white;padding-right: 0.2em;padding-left: 0.2em;position: relative;}#sk-container-id-6 div.sk-item {position: relative;z-index: 1;}#sk-container-id-6 div.sk-parallel {display: flex;align-items: stretch;justify-content: center;background-color: white;position: relative;}#sk-container-id-6 div.sk-item::before, #sk-container-id-6 div.sk-parallel-item::before {content: \"\";position: absolute;border-left: 1px solid gray;box-sizing: border-box;top: 0;bottom: 0;left: 50%;z-index: -1;}#sk-container-id-6 div.sk-parallel-item {display: flex;flex-direction: column;z-index: 1;position: relative;background-color: white;}#sk-container-id-6 div.sk-parallel-item:first-child::after {align-self: flex-end;width: 50%;}#sk-container-id-6 div.sk-parallel-item:last-child::after {align-self: flex-start;width: 50%;}#sk-container-id-6 div.sk-parallel-item:only-child::after {width: 0;}#sk-container-id-6 div.sk-dashed-wrapped {border: 1px dashed gray;margin: 0 0.4em 0.5em 0.4em;box-sizing: border-box;padding-bottom: 0.4em;background-color: white;}#sk-container-id-6 div.sk-label label {font-family: monospace;font-weight: bold;display: inline-block;line-height: 1.2em;}#sk-container-id-6 div.sk-label-container {text-align: center;}#sk-container-id-6 div.sk-container {/* jupyter's `normalize.less` sets `[hidden] { display: none; }` but bootstrap.min.css set `[hidden] { display: none !important; }` so we also need the `!important` here to be able to override the default hidden behavior on the sphinx rendered scikit-learn.org. See: https://github.com/scikit-learn/scikit-learn/issues/21755 */display: inline-block !important;position: relative;}#sk-container-id-6 div.sk-text-repr-fallback {display: none;}</style><div id=\"sk-container-id-6\" class=\"sk-top-container\"><div class=\"sk-text-repr-fallback\"><pre>GridSearchCV(cv=5, estimator=DecisionTreeClassifier(),\n",
       "             param_grid={&#x27;max_depth&#x27;: [4, 5, 6, 10, None],\n",
       "                         &#x27;max_features&#x27;: [&#x27;sqrt&#x27;, &#x27;log2&#x27;, None],\n",
       "                         &#x27;min_samples_leaf&#x27;: [1, 2],\n",
       "                         &#x27;min_samples_split&#x27;: [2, 3]})</pre><b>In a Jupyter environment, please rerun this cell to show the HTML representation or trust the notebook. <br />On GitHub, the HTML representation is unable to render, please try loading this page with nbviewer.org.</b></div><div class=\"sk-container\" hidden><div class=\"sk-item sk-dashed-wrapped\"><div class=\"sk-label-container\"><div class=\"sk-label sk-toggleable\"><input class=\"sk-toggleable__control sk-hidden--visually\" id=\"sk-estimator-id-14\" type=\"checkbox\" ><label for=\"sk-estimator-id-14\" class=\"sk-toggleable__label sk-toggleable__label-arrow\">GridSearchCV</label><div class=\"sk-toggleable__content\"><pre>GridSearchCV(cv=5, estimator=DecisionTreeClassifier(),\n",
       "             param_grid={&#x27;max_depth&#x27;: [4, 5, 6, 10, None],\n",
       "                         &#x27;max_features&#x27;: [&#x27;sqrt&#x27;, &#x27;log2&#x27;, None],\n",
       "                         &#x27;min_samples_leaf&#x27;: [1, 2],\n",
       "                         &#x27;min_samples_split&#x27;: [2, 3]})</pre></div></div></div><div class=\"sk-parallel\"><div class=\"sk-parallel-item\"><div class=\"sk-item\"><div class=\"sk-label-container\"><div class=\"sk-label sk-toggleable\"><input class=\"sk-toggleable__control sk-hidden--visually\" id=\"sk-estimator-id-15\" type=\"checkbox\" ><label for=\"sk-estimator-id-15\" class=\"sk-toggleable__label sk-toggleable__label-arrow\">estimator: DecisionTreeClassifier</label><div class=\"sk-toggleable__content\"><pre>DecisionTreeClassifier()</pre></div></div></div><div class=\"sk-serial\"><div class=\"sk-item\"><div class=\"sk-estimator sk-toggleable\"><input class=\"sk-toggleable__control sk-hidden--visually\" id=\"sk-estimator-id-16\" type=\"checkbox\" ><label for=\"sk-estimator-id-16\" class=\"sk-toggleable__label sk-toggleable__label-arrow\">DecisionTreeClassifier</label><div class=\"sk-toggleable__content\"><pre>DecisionTreeClassifier()</pre></div></div></div></div></div></div></div></div></div></div>"
      ],
      "text/plain": [
       "GridSearchCV(cv=5, estimator=DecisionTreeClassifier(),\n",
       "             param_grid={'max_depth': [4, 5, 6, 10, None],\n",
       "                         'max_features': ['sqrt', 'log2', None],\n",
       "                         'min_samples_leaf': [1, 2],\n",
       "                         'min_samples_split': [2, 3]})"
      ]
     },
     "execution_count": 49,
     "metadata": {},
     "output_type": "execute_result"
    }
   ],
   "source": [
    "param_grid = {\n",
    "    'max_depth': [4, 5, 6, 10, None],\n",
    "    'max_features': ['sqrt', 'log2', None],\n",
    "    'min_samples_split': [2, 3],\n",
    "    'min_samples_leaf': [1, 2]\n",
    "}\n",
    "\n",
    "dt = DecisionTreeClassifier()\n",
    "grid_search = GridSearchCV(dt, param_grid, cv=5)\n",
    "grid_search.fit(X_train[features_used_to_max], y_train)"
   ]
  },
  {
   "cell_type": "code",
   "execution_count": 51,
   "id": "52a95fbc",
   "metadata": {},
   "outputs": [],
   "source": [
    "dt_param = grid_search.best_params_"
   ]
  },
  {
   "cell_type": "code",
   "execution_count": 52,
   "id": "4bad4c60",
   "metadata": {},
   "outputs": [
    {
     "name": "stdout",
     "output_type": "stream",
     "text": [
      "Classification score = 0.7783742331288344\n"
     ]
    },
    {
     "data": {
      "image/png": "[encoded data removed]",
      "text/plain": [
       "<Figure size 640x480 with 2 Axes>"
      ]
     },
     "metadata": {},
     "output_type": "display_data"
    }
   ],
   "source": [
    "dt = DecisionTreeClassifier(max_depth=dt_param['max_depth'], max_features=dt_param['max_features'],\n",
    "                            min_samples_split=dt_param['min_samples_split'], min_samples_leaf=dt_param['min_samples_leaf'])\n",
    "dt.fit(X_train[features_used_to_max], y_train)\n",
    "dt_score = dt.score(X_validation[features_used_to_max], y_validation)\n",
    "print('Classification score =', dt_score)\n",
    "\n",
    "dt_prediction = dt.predict(X_validation[features_used_to_max])\n",
    "\n",
    "dt_cm = ConfusionMatrixDisplay(confusion_matrix(y_validation, dt_prediction), display_labels=['No', 'Yes']).plot()\n",
    "dt_cm\n",
    "plt.show()"
   ]
  },
  {
   "cell_type": "markdown",
   "id": "9157f94b",
   "metadata": {},
   "source": [
    "#### RandomForest"
   ]
  },
  {
   "cell_type": "code",
   "execution_count": null,
   "id": "eb585fcf",
   "metadata": {},
   "outputs": [],
   "source": [
    "rf = RandomForestClassifier()"
   ]
  },
  {
   "cell_type": "code",
   "execution_count": null,
   "id": "4d6e4e32",
   "metadata": {},
   "outputs": [],
   "source": []
  },
  {
   "cell_type": "code",
   "execution_count": null,
   "id": "1c3a3953",
   "metadata": {},
   "outputs": [],
   "source": []
  },
  {
   "cell_type": "code",
   "execution_count": null,
   "id": "8cd228c3",
   "metadata": {},
   "outputs": [],
   "source": []
  },
  {
   "cell_type": "code",
   "execution_count": null,
   "id": "c6481ed3",
   "metadata": {},
   "outputs": [],
   "source": []
  },
  {
   "cell_type": "code",
   "execution_count": null,
   "id": "b95e32bd",
   "metadata": {},
   "outputs": [],
   "source": []
  },
  {
   "cell_type": "code",
   "execution_count": null,
   "id": "a0c502a3",
   "metadata": {},
   "outputs": [],
   "source": []
  },
  {
   "cell_type": "code",
   "execution_count": null,
   "id": "dabdd5ea",
   "metadata": {},
   "outputs": [],
   "source": []
  },
  {
   "cell_type": "markdown",
   "id": "d25ed283",
   "metadata": {},
   "source": [
    "### Making predictions on the test_data"
   ]
  },
  {
   "cell_type": "markdown",
   "id": "0aff2c8a",
   "metadata": {},
   "source": [
    "#### Logistic Regression"
   ]
  },
  {
   "cell_type": "code",
   "execution_count": null,
   "id": "4184f6f0",
   "metadata": {},
   "outputs": [],
   "source": [
    "num_feat = train_data.select_dtypes(np.number)\n",
    "\n",
    "# Columns PassengerId and Name will not be used to train the machine learning model, so they will be droped\n",
    "# Column Transported is the target, so this will be droped since it's here by mistake\n",
    "cat_feat = train_data.select_dtypes(np.object).drop('Transported', axis=1)\n",
    "\n",
    "encoder = pd.get_dummies(cat_feat, drop_first=True)\n",
    "scaler = Normalizer().fit_transform(num_feat)\n",
    "scaler = pd.DataFrame(scaler, columns=num_feat.columns)\n",
    "\n",
    "num_feat_test = test_data.select_dtypes(np.number)\n",
    "cat_feat_test = test_data.select_dtypes(np.object)\n",
    "\n",
    "encoder_test = pd.get_dummies(cat_feat_test, drop_first=True)\n",
    "scaler_test = Normalizer().fit_transform(num_feat_test)\n",
    "scaler_test = pd.DataFrame(scaler_test, columns=num_feat_test.columns)\n",
    "\n",
    "test_data_transformed = pd.concat([encoder_test, scaler_test], axis=1)\n",
    "\n",
    "features = pd.concat([encoder, scaler], axis=1)\n",
    "target = train_data['Transported']\n",
    "\n",
    "log_reg = LogisticRegression()\n",
    "log_reg.fit(features, target)\n",
    "log_reg_predict = log_reg.predict(test_data_transformed)\n",
    "\n",
    "# Testing assumptions of the model\n",
    "\n",
    "log_reg_predict_prob = log_reg.predict_proba(test_data_transformed)[:,1] # probability of True\n",
    "log_odds_log_reg_predict_prob = np.log(log_reg_predict_prob/(1-log_reg_predict_prob)) # log-odds"
   ]
  },
  {
   "cell_type": "code",
   "execution_count": null,
   "id": "030cabae",
   "metadata": {
    "scrolled": false
   },
   "outputs": [],
   "source": [
    "# Visualizing Log-Odds\n",
    "fig, [ax1, ax2] = plt.subplots(2,3)\n",
    "fig.set_figheight(10)\n",
    "fig.set_figwidth(16)\n",
    "\n",
    "ax1[0].scatter(x=test_data_transformed['Age'], y=log_odds_log_reg_predict_prob)\n",
    "ax1[0].set_title('Age x Log-Odds')\n",
    "ax1[0].set_ylabel('Log-Odds')\n",
    "ax1[0].set_xlabel('Age')\n",
    "\n",
    "ax1[1].scatter(x=test_data_transformed['RoomService'], y=log_odds_log_reg_predict_prob)\n",
    "ax1[1].set_title('RoomService x Log-Odds')\n",
    "ax1[1].set_ylabel('Log-Odds')\n",
    "ax1[1].set_xlabel('RoomService')\n",
    "\n",
    "ax1[2].scatter(x=test_data_transformed['FoodCourt'], y=log_odds_log_reg_predict_prob)\n",
    "ax1[2].set_title('FoodCourt x Log-Odds')\n",
    "ax1[2].set_ylabel('Log-Odds')\n",
    "ax1[2].set_xlabel('FoodCourt')\n",
    "\n",
    "ax2[0].scatter(x=test_data_transformed['ShoppingMall'], y=log_odds_log_reg_predict_prob)\n",
    "ax2[0].set_title('ShoppingMall x Log-Odds')\n",
    "ax2[0].set_ylabel('Log-Odds')\n",
    "ax2[0].set_xlabel('ShoppingMall')\n",
    "\n",
    "ax2[1].scatter(x=test_data_transformed['Spa'], y=log_odds_log_reg_predict_prob)\n",
    "ax2[1].set_title('Spa x Log-Odds')\n",
    "ax2[1].set_ylabel('Log-Odds')\n",
    "ax2[1].set_xlabel('Spa')\n",
    "\n",
    "ax2[2].scatter(x=test_data_transformed['VRDeck'], y=log_odds_log_reg_predict_prob)\n",
    "ax2[2].set_title('VRDeck x Log-Odds')\n",
    "ax2[2].set_ylabel('Log-Odds')\n",
    "ax2[2].set_xlabel('VRDeck')\n",
    "\n",
    "plt.show()"
   ]
  },
  {
   "cell_type": "code",
   "execution_count": null,
   "id": "0f556ddd",
   "metadata": {},
   "outputs": [],
   "source": [
    "third_submission = submission_sample.copy()\n",
    "third_submission['Transported'] = log_reg_predict\n",
    "third_submission.to_csv('../submissions/third_submission.csv', index=None)\n",
    "third_submission"
   ]
  },
  {
   "cell_type": "code",
   "execution_count": null,
   "id": "c8c30d9b",
   "metadata": {},
   "outputs": [],
   "source": [
    "third_submission['Transported'].value_counts()"
   ]
  },
  {
   "cell_type": "code",
   "execution_count": null,
   "id": "e1bea660",
   "metadata": {},
   "outputs": [],
   "source": []
  },
  {
   "cell_type": "markdown",
   "id": "4921a9b1",
   "metadata": {},
   "source": [
    "#### Logistic Regression using SelectKBest columns"
   ]
  },
  {
   "cell_type": "code",
   "execution_count": null,
   "id": "cb7ab71d",
   "metadata": {},
   "outputs": [],
   "source": [
    "encoder = pd.get_dummies(cat_feat, drop_first=True)\n",
    "scaler = Normalizer().fit_transform(num_feat)\n",
    "scaler = pd.DataFrame(scaler, columns=num_feat.columns)\n",
    "\n",
    "features = pd.concat([encoder, scaler], axis=1)\n",
    "target = train_data['Transported']\n",
    "\n",
    "##### Selecting KBest #####\n",
    "\n",
    "X_train, X_test, y_train, y_test = train_test_split(features, target, test_size=0.25, random_state=42)\n",
    "\n",
    "classification_score = []\n",
    "features_used = []\n",
    "\n",
    "for i in np.arange(24):\n",
    "    kbest_selector = SelectKBest(score_func=chi2, k=i+1)\n",
    "    X_new_k = kbest_selector.fit_transform(X_train, y_train)\n",
    "    feature_names_out = kbest_selector.get_feature_names_out()\n",
    "    \n",
    "    features_used.append(feature_names_out)\n",
    "    \n",
    "    log_reg = LogisticRegression()\n",
    "    log_reg.fit(X_new_k, y_train)\n",
    "\n",
    "    classification_score.append(log_reg.score(X_test[feature_names_out], y_test))\n",
    "\n",
    "max_clf_ind = classification_score.index(max(classification_score))\n",
    "features_used_to_max = features_used[max_clf_ind]\n",
    "\n",
    "##### Predicting #####\n",
    "\n",
    "num_feat_test = test_data.select_dtypes(np.number)\n",
    "cat_feat_test = test_data.select_dtypes(np.object)\n",
    "\n",
    "encoder_test = pd.get_dummies(cat_feat_test, drop_first=True)\n",
    "scaler_test = Normalizer().fit_transform(num_feat_test)\n",
    "scaler_test = pd.DataFrame(scaler_test, columns=num_feat_test.columns)\n",
    "\n",
    "test_data_transformed = pd.concat([encoder_test, scaler_test], axis=1)\n",
    "kbest_test_data_transformed = test_data_transformed[features_used_to_max]\n",
    "\n",
    "kbest_features = features[features_used_to_max]\n",
    "\n",
    "log_reg_2 = LogisticRegression()\n",
    "log_reg_2.fit(kbest_features, target)\n",
    "\n",
    "log_reg_2_predict = log_reg_2.predict(kbest_test_data_transformed)\n",
    "\n",
    "# Testing assumptions of the model\n",
    "\n",
    "log_reg_2_predict_prob = log_reg_2.predict_proba(kbest_features)[:,1] # probability of True\n",
    "log_odds_log_reg_2_predict_prob = np.log(log_reg_predict_prob/(1-log_reg_predict_prob)) # log-odds"
   ]
  },
  {
   "cell_type": "code",
   "execution_count": null,
   "id": "7714c48f",
   "metadata": {},
   "outputs": [],
   "source": [
    "# Visualizing Log-Odds\n",
    "fig, [ax1, ax2] = plt.subplots(2,2)\n",
    "fig.set_figheight(10)\n",
    "fig.set_figwidth(16)\n",
    "\n",
    "ax1[0].scatter(x=kbest_test_data_transformed['Age'], y=log_odds_log_reg_2_predict_prob)\n",
    "ax1[0].set_title('Age x Log-Odds')\n",
    "ax1[0].set_ylabel('Log-Odds')\n",
    "ax1[0].set_xlabel('Age')\n",
    "\n",
    "ax1[1].scatter(x=kbest_test_data_transformed['RoomService'], y=log_odds_log_reg_2_predict_prob)\n",
    "ax1[1].set_title('RoomService x Log-Odds')\n",
    "ax1[1].set_ylabel('Log-Odds')\n",
    "ax1[1].set_xlabel('RoomService')\n",
    "\n",
    "ax2[0].scatter(x=kbest_test_data_transformed['VRDeck'], y=log_odds_log_reg_2_predict_prob)\n",
    "ax2[0].set_title('VRDeck x Log-Odds')\n",
    "ax2[0].set_ylabel('Log-Odds')\n",
    "ax2[0].set_xlabel('VRDeck')\n",
    "\n",
    "ax2[1].scatter(x=kbest_test_data_transformed['Spa'], y=log_odds_log_reg_2_predict_prob)\n",
    "ax2[1].set_title('Spa x Log-Odds')\n",
    "ax2[1].set_ylabel('Log-Odds')\n",
    "ax2[1].set_xlabel('Spa')\n",
    "\n",
    "plt.show()"
   ]
  },
  {
   "cell_type": "code",
   "execution_count": null,
   "id": "e2813a53",
   "metadata": {},
   "outputs": [],
   "source": [
    "fourth_submission = submission_sample.copy()\n",
    "fourth_submission['Transported'] = log_reg_2_predict\n",
    "fourth_submission.to_csv('../submissions/fourth_submission.csv', index=None)\n",
    "fourth_submission"
   ]
  },
  {
   "cell_type": "code",
   "execution_count": null,
   "id": "facdec98",
   "metadata": {
    "scrolled": true
   },
   "outputs": [],
   "source": [
    "fourth_submission['Transported'].value_counts()"
   ]
  },
  {
   "cell_type": "code",
   "execution_count": null,
   "id": "6d47c4d5",
   "metadata": {},
   "outputs": [],
   "source": []
  },
  {
   "cell_type": "markdown",
   "id": "b87d5942",
   "metadata": {},
   "source": [
    "### KNN"
   ]
  },
  {
   "cell_type": "code",
   "execution_count": null,
   "id": "b11afa90",
   "metadata": {},
   "outputs": [],
   "source": []
  },
  {
   "cell_type": "code",
   "execution_count": null,
   "id": "23b6b1a4",
   "metadata": {},
   "outputs": [],
   "source": [
    "encoder = pd.get_dummies(cat_feat, drop_first=True)\n",
    "scaler = Normalizer().fit_transform(num_feat)\n",
    "scaler = pd.DataFrame(scaler, columns=num_feat.columns)\n",
    "\n",
    "features = pd.concat([encoder, scaler], axis=1)\n",
    "target = train_data['Transported']\n",
    "\n",
    "##### Selecting KBest #####\n",
    "\n",
    "X_train, X_test, y_train, y_test = train_test_split(features, target, test_size=0.25, random_state=42)\n",
    "\n",
    "classification_score = []\n",
    "features_used = []\n",
    "\n",
    "for i in np.arange(24):\n",
    "    kbest_selector = SelectKBest(score_func=chi2, k=i+1)\n",
    "    X_new_k = kbest_selector.fit_transform(X_train, y_train)\n",
    "    feature_names_out = kbest_selector.get_feature_names_out()\n",
    "    \n",
    "    features_used.append(feature_names_out)\n",
    "    \n",
    "    knn = KNeighborsClassifier()\n",
    "    knn.fit(X_new_k, y_train)\n",
    "\n",
    "    classification_score.append(log_reg.score(X_test[feature_names_out], y_test))\n",
    "\n",
    "max_clf_ind = classification_score.index(max(classification_score))\n",
    "features_used_to_max = features_used[max_clf_ind]\n",
    "\n",
    "##### Predicting #####\n",
    "\n",
    "num_feat_test = test_data.select_dtypes(np.number)\n",
    "cat_feat_test = test_data.select_dtypes(np.object)\n",
    "\n",
    "encoder_test = pd.get_dummies(cat_feat_test, drop_first=True)\n",
    "scaler_test = Normalizer().fit_transform(num_feat_test)\n",
    "scaler_test = pd.DataFrame(scaler_test, columns=num_feat_test.columns)\n",
    "\n",
    "test_data_transformed = pd.concat([encoder_test, scaler_test], axis=1)\n",
    "kbest_test_data_transformed = test_data_transformed[features_used_to_max]\n",
    "\n",
    "kbest_features = features[features_used_to_max]\n",
    "\n",
    "log_reg_2 = LogisticRegression()\n",
    "log_reg_2.fit(kbest_features, target)\n",
    "\n",
    "log_reg_2_predict = log_reg_2.predict(kbest_test_data_transformed)\n"
   ]
  },
  {
   "cell_type": "code",
   "execution_count": null,
   "id": "ff15414f",
   "metadata": {},
   "outputs": [],
   "source": []
  },
  {
   "cell_type": "code",
   "execution_count": null,
   "id": "20a1c88f",
   "metadata": {},
   "outputs": [],
   "source": []
  },
  {
   "cell_type": "code",
   "execution_count": null,
   "id": "13619abc",
   "metadata": {},
   "outputs": [],
   "source": []
  },
  {
   "cell_type": "code",
   "execution_count": null,
   "id": "cbb8ed80",
   "metadata": {},
   "outputs": [],
   "source": []
  },
  {
   "cell_type": "code",
   "execution_count": null,
   "id": "d7cad2a9",
   "metadata": {},
   "outputs": [],
   "source": []
  },
  {
   "cell_type": "code",
   "execution_count": null,
   "id": "dd0c7785",
   "metadata": {},
   "outputs": [],
   "source": []
  },
  {
   "cell_type": "code",
   "execution_count": null,
   "id": "d2291aca",
   "metadata": {},
   "outputs": [],
   "source": []
  },
  {
   "cell_type": "code",
   "execution_count": null,
   "id": "8f50c09a",
   "metadata": {},
   "outputs": [],
   "source": []
  },
  {
   "cell_type": "code",
   "execution_count": null,
   "id": "88c7b4b1",
   "metadata": {},
   "outputs": [],
   "source": [
    "# 7.7 joblib"
   ]
  },
  {
   "cell_type": "code",
   "execution_count": null,
   "id": "3a2b5630",
   "metadata": {},
   "outputs": [],
   "source": [
    "submission_sample"
   ]
  },
  {
   "cell_type": "code",
   "execution_count": null,
   "id": "1b494833",
   "metadata": {},
   "outputs": [],
   "source": []
  }
 ],
 "metadata": {
  "kernelspec": {
   "display_name": "Python 3 (ipykernel)",
   "language": "python",
   "name": "python3"
  },
  "language_info": {
   "codemirror_mode": {
    "name": "ipython",
    "version": 3
   },
   "file_extension": ".py",
   "mimetype": "text/x-python",
   "name": "python",
   "nbconvert_exporter": "python",
   "pygments_lexer": "ipython3",
   "version": "3.10.9"
  }
 },
 "nbformat": 4,
 "nbformat_minor": 5
}
