{
 "cells": [
  {
   "cell_type": "markdown",
   "id": "9bf24ef4",
   "metadata": {},
   "source": [
    "# Ironhack Final Bootcamp Project - Spaceship Titanic (Kaggle)"
   ]
  },
  {
   "cell_type": "markdown",
   "id": "46255122",
   "metadata": {},
   "source": [
    "This project is based on the Kaggle Spaceship Titanic competition. It consists on a binary classification machine learning model, wich has the objective to predict the if a whether a person will be transported to an alternate dimension or not."
   ]
  },
  {
   "cell_type": "markdown",
   "id": "78934dd0",
   "metadata": {},
   "source": [
    "###  Importing libraries and quick overview on datasets"
   ]
  },
  {
   "cell_type": "code",
   "execution_count": 1,
   "id": "24188583",
   "metadata": {},
   "outputs": [],
   "source": [
    "import pandas as pd\n",
    "import numpy as np\n",
    "import matplotlib.pyplot as plt\n",
    "%matplotlib inline\n",
    "import seaborn as sns\n",
    "import warnings\n",
    "warnings.filterwarnings('ignore')\n",
    "\n",
    "from scipy.stats import chi2_contingency\n",
    "from statsmodels.stats.outliers_influence import variance_inflation_factor\n",
    "from sklearn.preprocessing import OneHotEncoder, LabelEncoder, MinMaxScaler, StandardScaler, Normalizer\n",
    "from sklearn.pipeline import Pipeline\n",
    "from sklearn.model_selection import train_test_split, RandomizedSearchCV, GridSearchCV, KFold\n",
    "from sklearn.linear_model import LogisticRegression\n",
    "from sklearn.neighbors import KNeighborsClassifier\n",
    "from sklearn.tree import DecisionTreeClassifier\n",
    "from sklearn.ensemble import RandomForestClassifier\n",
    "from xgboost import XGBClassifier\n",
    "\n",
    "from sklearn.metrics import confusion_matrix, ConfusionMatrixDisplay, roc_auc_score, roc_curve, auc"
   ]
  },
  {
   "cell_type": "code",
   "execution_count": 2,
   "id": "1da8b7b0",
   "metadata": {},
   "outputs": [],
   "source": [
    "train_data = pd.read_csv('../data/train.csv')\n",
    "test_data = pd.read_csv('../data/test.csv')"
   ]
  },
  {
   "cell_type": "code",
   "execution_count": 3,
   "id": "228d0248",
   "metadata": {},
   "outputs": [
    {
     "data": {
      "text/html": [
       "<div>\n",
       "<style scoped>\n",
       "    .dataframe tbody tr th:only-of-type {\n",
       "        vertical-align: middle;\n",
       "    }\n",
       "\n",
       "    .dataframe tbody tr th {\n",
       "        vertical-align: top;\n",
       "    }\n",
       "\n",
       "    .dataframe thead th {\n",
       "        text-align: right;\n",
       "    }\n",
       "</style>\n",
       "<table border=\"1\" class=\"dataframe\">\n",
       "  <thead>\n",
       "    <tr style=\"text-align: right;\">\n",
       "      <th></th>\n",
       "      <th>PassengerId</th>\n",
       "      <th>HomePlanet</th>\n",
       "      <th>CryoSleep</th>\n",
       "      <th>Cabin</th>\n",
       "      <th>Destination</th>\n",
       "      <th>Age</th>\n",
       "      <th>VIP</th>\n",
       "      <th>RoomService</th>\n",
       "      <th>FoodCourt</th>\n",
       "      <th>ShoppingMall</th>\n",
       "      <th>Spa</th>\n",
       "      <th>VRDeck</th>\n",
       "      <th>Name</th>\n",
       "      <th>Transported</th>\n",
       "    </tr>\n",
       "  </thead>\n",
       "  <tbody>\n",
       "    <tr>\n",
       "      <th>0</th>\n",
       "      <td>0001_01</td>\n",
       "      <td>Europa</td>\n",
       "      <td>False</td>\n",
       "      <td>B/0/P</td>\n",
       "      <td>TRAPPIST-1e</td>\n",
       "      <td>39.0</td>\n",
       "      <td>False</td>\n",
       "      <td>0.0</td>\n",
       "      <td>0.0</td>\n",
       "      <td>0.0</td>\n",
       "      <td>0.0</td>\n",
       "      <td>0.0</td>\n",
       "      <td>Maham Ofracculy</td>\n",
       "      <td>False</td>\n",
       "    </tr>\n",
       "    <tr>\n",
       "      <th>1</th>\n",
       "      <td>0002_01</td>\n",
       "      <td>Earth</td>\n",
       "      <td>False</td>\n",
       "      <td>F/0/S</td>\n",
       "      <td>TRAPPIST-1e</td>\n",
       "      <td>24.0</td>\n",
       "      <td>False</td>\n",
       "      <td>109.0</td>\n",
       "      <td>9.0</td>\n",
       "      <td>25.0</td>\n",
       "      <td>549.0</td>\n",
       "      <td>44.0</td>\n",
       "      <td>Juanna Vines</td>\n",
       "      <td>True</td>\n",
       "    </tr>\n",
       "    <tr>\n",
       "      <th>2</th>\n",
       "      <td>0003_01</td>\n",
       "      <td>Europa</td>\n",
       "      <td>False</td>\n",
       "      <td>A/0/S</td>\n",
       "      <td>TRAPPIST-1e</td>\n",
       "      <td>58.0</td>\n",
       "      <td>True</td>\n",
       "      <td>43.0</td>\n",
       "      <td>3576.0</td>\n",
       "      <td>0.0</td>\n",
       "      <td>6715.0</td>\n",
       "      <td>49.0</td>\n",
       "      <td>Altark Susent</td>\n",
       "      <td>False</td>\n",
       "    </tr>\n",
       "    <tr>\n",
       "      <th>3</th>\n",
       "      <td>0003_02</td>\n",
       "      <td>Europa</td>\n",
       "      <td>False</td>\n",
       "      <td>A/0/S</td>\n",
       "      <td>TRAPPIST-1e</td>\n",
       "      <td>33.0</td>\n",
       "      <td>False</td>\n",
       "      <td>0.0</td>\n",
       "      <td>1283.0</td>\n",
       "      <td>371.0</td>\n",
       "      <td>3329.0</td>\n",
       "      <td>193.0</td>\n",
       "      <td>Solam Susent</td>\n",
       "      <td>False</td>\n",
       "    </tr>\n",
       "    <tr>\n",
       "      <th>4</th>\n",
       "      <td>0004_01</td>\n",
       "      <td>Earth</td>\n",
       "      <td>False</td>\n",
       "      <td>F/1/S</td>\n",
       "      <td>TRAPPIST-1e</td>\n",
       "      <td>16.0</td>\n",
       "      <td>False</td>\n",
       "      <td>303.0</td>\n",
       "      <td>70.0</td>\n",
       "      <td>151.0</td>\n",
       "      <td>565.0</td>\n",
       "      <td>2.0</td>\n",
       "      <td>Willy Santantines</td>\n",
       "      <td>True</td>\n",
       "    </tr>\n",
       "  </tbody>\n",
       "</table>\n",
       "</div>"
      ],
      "text/plain": [
       "  PassengerId HomePlanet CryoSleep  Cabin  Destination   Age    VIP  \\\n",
       "0     0001_01     Europa     False  B/0/P  TRAPPIST-1e  39.0  False   \n",
       "1     0002_01      Earth     False  F/0/S  TRAPPIST-1e  24.0  False   \n",
       "2     0003_01     Europa     False  A/0/S  TRAPPIST-1e  58.0   True   \n",
       "3     0003_02     Europa     False  A/0/S  TRAPPIST-1e  33.0  False   \n",
       "4     0004_01      Earth     False  F/1/S  TRAPPIST-1e  16.0  False   \n",
       "\n",
       "   RoomService  FoodCourt  ShoppingMall     Spa  VRDeck               Name  \\\n",
       "0          0.0        0.0           0.0     0.0     0.0    Maham Ofracculy   \n",
       "1        109.0        9.0          25.0   549.0    44.0       Juanna Vines   \n",
       "2         43.0     3576.0           0.0  6715.0    49.0      Altark Susent   \n",
       "3          0.0     1283.0         371.0  3329.0   193.0       Solam Susent   \n",
       "4        303.0       70.0         151.0   565.0     2.0  Willy Santantines   \n",
       "\n",
       "   Transported  \n",
       "0        False  \n",
       "1         True  \n",
       "2        False  \n",
       "3        False  \n",
       "4         True  "
      ]
     },
     "execution_count": 3,
     "metadata": {},
     "output_type": "execute_result"
    }
   ],
   "source": [
    "train_data.head()"
   ]
  },
  {
   "cell_type": "code",
   "execution_count": 4,
   "id": "36c0e43a",
   "metadata": {},
   "outputs": [
    {
     "data": {
      "text/html": [
       "<div>\n",
       "<style scoped>\n",
       "    .dataframe tbody tr th:only-of-type {\n",
       "        vertical-align: middle;\n",
       "    }\n",
       "\n",
       "    .dataframe tbody tr th {\n",
       "        vertical-align: top;\n",
       "    }\n",
       "\n",
       "    .dataframe thead th {\n",
       "        text-align: right;\n",
       "    }\n",
       "</style>\n",
       "<table border=\"1\" class=\"dataframe\">\n",
       "  <thead>\n",
       "    <tr style=\"text-align: right;\">\n",
       "      <th></th>\n",
       "      <th>PassengerId</th>\n",
       "      <th>HomePlanet</th>\n",
       "      <th>CryoSleep</th>\n",
       "      <th>Cabin</th>\n",
       "      <th>Destination</th>\n",
       "      <th>Age</th>\n",
       "      <th>VIP</th>\n",
       "      <th>RoomService</th>\n",
       "      <th>FoodCourt</th>\n",
       "      <th>ShoppingMall</th>\n",
       "      <th>Spa</th>\n",
       "      <th>VRDeck</th>\n",
       "      <th>Name</th>\n",
       "    </tr>\n",
       "  </thead>\n",
       "  <tbody>\n",
       "    <tr>\n",
       "      <th>0</th>\n",
       "      <td>0013_01</td>\n",
       "      <td>Earth</td>\n",
       "      <td>True</td>\n",
       "      <td>G/3/S</td>\n",
       "      <td>TRAPPIST-1e</td>\n",
       "      <td>27.0</td>\n",
       "      <td>False</td>\n",
       "      <td>0.0</td>\n",
       "      <td>0.0</td>\n",
       "      <td>0.0</td>\n",
       "      <td>0.0</td>\n",
       "      <td>0.0</td>\n",
       "      <td>Nelly Carsoning</td>\n",
       "    </tr>\n",
       "    <tr>\n",
       "      <th>1</th>\n",
       "      <td>0018_01</td>\n",
       "      <td>Earth</td>\n",
       "      <td>False</td>\n",
       "      <td>F/4/S</td>\n",
       "      <td>TRAPPIST-1e</td>\n",
       "      <td>19.0</td>\n",
       "      <td>False</td>\n",
       "      <td>0.0</td>\n",
       "      <td>9.0</td>\n",
       "      <td>0.0</td>\n",
       "      <td>2823.0</td>\n",
       "      <td>0.0</td>\n",
       "      <td>Lerome Peckers</td>\n",
       "    </tr>\n",
       "    <tr>\n",
       "      <th>2</th>\n",
       "      <td>0019_01</td>\n",
       "      <td>Europa</td>\n",
       "      <td>True</td>\n",
       "      <td>C/0/S</td>\n",
       "      <td>55 Cancri e</td>\n",
       "      <td>31.0</td>\n",
       "      <td>False</td>\n",
       "      <td>0.0</td>\n",
       "      <td>0.0</td>\n",
       "      <td>0.0</td>\n",
       "      <td>0.0</td>\n",
       "      <td>0.0</td>\n",
       "      <td>Sabih Unhearfus</td>\n",
       "    </tr>\n",
       "    <tr>\n",
       "      <th>3</th>\n",
       "      <td>0021_01</td>\n",
       "      <td>Europa</td>\n",
       "      <td>False</td>\n",
       "      <td>C/1/S</td>\n",
       "      <td>TRAPPIST-1e</td>\n",
       "      <td>38.0</td>\n",
       "      <td>False</td>\n",
       "      <td>0.0</td>\n",
       "      <td>6652.0</td>\n",
       "      <td>0.0</td>\n",
       "      <td>181.0</td>\n",
       "      <td>585.0</td>\n",
       "      <td>Meratz Caltilter</td>\n",
       "    </tr>\n",
       "    <tr>\n",
       "      <th>4</th>\n",
       "      <td>0023_01</td>\n",
       "      <td>Earth</td>\n",
       "      <td>False</td>\n",
       "      <td>F/5/S</td>\n",
       "      <td>TRAPPIST-1e</td>\n",
       "      <td>20.0</td>\n",
       "      <td>False</td>\n",
       "      <td>10.0</td>\n",
       "      <td>0.0</td>\n",
       "      <td>635.0</td>\n",
       "      <td>0.0</td>\n",
       "      <td>0.0</td>\n",
       "      <td>Brence Harperez</td>\n",
       "    </tr>\n",
       "  </tbody>\n",
       "</table>\n",
       "</div>"
      ],
      "text/plain": [
       "  PassengerId HomePlanet CryoSleep  Cabin  Destination   Age    VIP  \\\n",
       "0     0013_01      Earth      True  G/3/S  TRAPPIST-1e  27.0  False   \n",
       "1     0018_01      Earth     False  F/4/S  TRAPPIST-1e  19.0  False   \n",
       "2     0019_01     Europa      True  C/0/S  55 Cancri e  31.0  False   \n",
       "3     0021_01     Europa     False  C/1/S  TRAPPIST-1e  38.0  False   \n",
       "4     0023_01      Earth     False  F/5/S  TRAPPIST-1e  20.0  False   \n",
       "\n",
       "   RoomService  FoodCourt  ShoppingMall     Spa  VRDeck              Name  \n",
       "0          0.0        0.0           0.0     0.0     0.0   Nelly Carsoning  \n",
       "1          0.0        9.0           0.0  2823.0     0.0    Lerome Peckers  \n",
       "2          0.0        0.0           0.0     0.0     0.0   Sabih Unhearfus  \n",
       "3          0.0     6652.0           0.0   181.0   585.0  Meratz Caltilter  \n",
       "4         10.0        0.0         635.0     0.0     0.0   Brence Harperez  "
      ]
     },
     "execution_count": 4,
     "metadata": {},
     "output_type": "execute_result"
    }
   ],
   "source": [
    "test_data.head()"
   ]
  },
  {
   "cell_type": "markdown",
   "id": "384a460b",
   "metadata": {},
   "source": [
    "Here you can see the description of each column:\n",
    "\n",
    "- PassengerId - A unique Id for each passenger. Each Id takes the form gggg_pp where gggg indicates a group the passenger is travelling with and pp is their number within the group. People in a group are often family members, but not always.\n",
    "- HomePlanet - The planet the passenger departed from, typically their planet of permanent residence.\n",
    "- CryoSleep - Indicates whether the passenger elected to be put into suspended animation for the duration of the voyage. Passengers in cryosleep are confined to their cabins.\n",
    "- Cabin - The cabin number where the passenger is staying. Takes the form deck/num/side, where side can be either P for Port or S for Starboard.\n",
    "- Destination - The planet the passenger will be debarking to.\n",
    "- Age - The age of the passenger.\n",
    "- VIP - Whether the passenger has paid for special VIP service during the voyage.\n",
    "- RoomService, FoodCourt, ShoppingMall, Spa, VRDeck - Amount the passenger has billed at each of the Spaceship Titanic's many luxury amenities.\n",
    "- Name - The first and last names of the passenger.\n",
    "- Transported - Whether the passenger was transported to another dimension. This is the target, the column you are trying to predict."
   ]
  },
  {
   "cell_type": "code",
   "execution_count": 5,
   "id": "de315193",
   "metadata": {},
   "outputs": [
    {
     "name": "stdout",
     "output_type": "stream",
     "text": [
      "train_data shape (8693, 14)\n",
      "test_data shape (4277, 13)\n"
     ]
    }
   ],
   "source": [
    "print('train_data shape',train_data.shape)\n",
    "print('test_data shape', test_data.shape)\n",
    "\n",
    "# the test_data has one less column, wich is target column i need to predict"
   ]
  },
  {
   "cell_type": "code",
   "execution_count": 6,
   "id": "d3fe6406",
   "metadata": {},
   "outputs": [
    {
     "name": "stdout",
     "output_type": "stream",
     "text": [
      "<class 'pandas.core.frame.DataFrame'>\n",
      "RangeIndex: 8693 entries, 0 to 8692\n",
      "Data columns (total 14 columns):\n",
      " #   Column        Non-Null Count  Dtype  \n",
      "---  ------        --------------  -----  \n",
      " 0   PassengerId   8693 non-null   object \n",
      " 1   HomePlanet    8492 non-null   object \n",
      " 2   CryoSleep     8476 non-null   object \n",
      " 3   Cabin         8494 non-null   object \n",
      " 4   Destination   8511 non-null   object \n",
      " 5   Age           8514 non-null   float64\n",
      " 6   VIP           8490 non-null   object \n",
      " 7   RoomService   8512 non-null   float64\n",
      " 8   FoodCourt     8510 non-null   float64\n",
      " 9   ShoppingMall  8485 non-null   float64\n",
      " 10  Spa           8510 non-null   float64\n",
      " 11  VRDeck        8505 non-null   float64\n",
      " 12  Name          8493 non-null   object \n",
      " 13  Transported   8693 non-null   bool   \n",
      "dtypes: bool(1), float64(6), object(7)\n",
      "memory usage: 891.5+ KB\n"
     ]
    }
   ],
   "source": [
    "train_data.info()\n",
    "# there are some nulls, i'll need to take a look at each collumn in specific to choose the best strategy to deal with it"
   ]
  },
  {
   "cell_type": "code",
   "execution_count": 7,
   "id": "f036bca7",
   "metadata": {},
   "outputs": [
    {
     "data": {
      "text/html": [
       "<div>\n",
       "<style scoped>\n",
       "    .dataframe tbody tr th:only-of-type {\n",
       "        vertical-align: middle;\n",
       "    }\n",
       "\n",
       "    .dataframe tbody tr th {\n",
       "        vertical-align: top;\n",
       "    }\n",
       "\n",
       "    .dataframe thead th {\n",
       "        text-align: right;\n",
       "    }\n",
       "</style>\n",
       "<table border=\"1\" class=\"dataframe\">\n",
       "  <thead>\n",
       "    <tr style=\"text-align: right;\">\n",
       "      <th></th>\n",
       "      <th>Age</th>\n",
       "      <th>RoomService</th>\n",
       "      <th>FoodCourt</th>\n",
       "      <th>ShoppingMall</th>\n",
       "      <th>Spa</th>\n",
       "      <th>VRDeck</th>\n",
       "    </tr>\n",
       "  </thead>\n",
       "  <tbody>\n",
       "    <tr>\n",
       "      <th>count</th>\n",
       "      <td>8514.000000</td>\n",
       "      <td>8512.000000</td>\n",
       "      <td>8510.000000</td>\n",
       "      <td>8485.000000</td>\n",
       "      <td>8510.000000</td>\n",
       "      <td>8505.000000</td>\n",
       "    </tr>\n",
       "    <tr>\n",
       "      <th>mean</th>\n",
       "      <td>28.827930</td>\n",
       "      <td>224.687617</td>\n",
       "      <td>458.077203</td>\n",
       "      <td>173.729169</td>\n",
       "      <td>311.138778</td>\n",
       "      <td>304.854791</td>\n",
       "    </tr>\n",
       "    <tr>\n",
       "      <th>std</th>\n",
       "      <td>14.489021</td>\n",
       "      <td>666.717663</td>\n",
       "      <td>1611.489240</td>\n",
       "      <td>604.696458</td>\n",
       "      <td>1136.705535</td>\n",
       "      <td>1145.717189</td>\n",
       "    </tr>\n",
       "    <tr>\n",
       "      <th>min</th>\n",
       "      <td>0.000000</td>\n",
       "      <td>0.000000</td>\n",
       "      <td>0.000000</td>\n",
       "      <td>0.000000</td>\n",
       "      <td>0.000000</td>\n",
       "      <td>0.000000</td>\n",
       "    </tr>\n",
       "    <tr>\n",
       "      <th>25%</th>\n",
       "      <td>19.000000</td>\n",
       "      <td>0.000000</td>\n",
       "      <td>0.000000</td>\n",
       "      <td>0.000000</td>\n",
       "      <td>0.000000</td>\n",
       "      <td>0.000000</td>\n",
       "    </tr>\n",
       "    <tr>\n",
       "      <th>50%</th>\n",
       "      <td>27.000000</td>\n",
       "      <td>0.000000</td>\n",
       "      <td>0.000000</td>\n",
       "      <td>0.000000</td>\n",
       "      <td>0.000000</td>\n",
       "      <td>0.000000</td>\n",
       "    </tr>\n",
       "    <tr>\n",
       "      <th>75%</th>\n",
       "      <td>38.000000</td>\n",
       "      <td>47.000000</td>\n",
       "      <td>76.000000</td>\n",
       "      <td>27.000000</td>\n",
       "      <td>59.000000</td>\n",
       "      <td>46.000000</td>\n",
       "    </tr>\n",
       "    <tr>\n",
       "      <th>max</th>\n",
       "      <td>79.000000</td>\n",
       "      <td>14327.000000</td>\n",
       "      <td>29813.000000</td>\n",
       "      <td>23492.000000</td>\n",
       "      <td>22408.000000</td>\n",
       "      <td>24133.000000</td>\n",
       "    </tr>\n",
       "  </tbody>\n",
       "</table>\n",
       "</div>"
      ],
      "text/plain": [
       "               Age   RoomService     FoodCourt  ShoppingMall           Spa  \\\n",
       "count  8514.000000   8512.000000   8510.000000   8485.000000   8510.000000   \n",
       "mean     28.827930    224.687617    458.077203    173.729169    311.138778   \n",
       "std      14.489021    666.717663   1611.489240    604.696458   1136.705535   \n",
       "min       0.000000      0.000000      0.000000      0.000000      0.000000   \n",
       "25%      19.000000      0.000000      0.000000      0.000000      0.000000   \n",
       "50%      27.000000      0.000000      0.000000      0.000000      0.000000   \n",
       "75%      38.000000     47.000000     76.000000     27.000000     59.000000   \n",
       "max      79.000000  14327.000000  29813.000000  23492.000000  22408.000000   \n",
       "\n",
       "             VRDeck  \n",
       "count   8505.000000  \n",
       "mean     304.854791  \n",
       "std     1145.717189  \n",
       "min        0.000000  \n",
       "25%        0.000000  \n",
       "50%        0.000000  \n",
       "75%       46.000000  \n",
       "max    24133.000000  "
      ]
     },
     "execution_count": 7,
     "metadata": {},
     "output_type": "execute_result"
    }
   ],
   "source": [
    "train_data.describe()"
   ]
  },
  {
   "cell_type": "code",
   "execution_count": 8,
   "id": "f0479a60",
   "metadata": {},
   "outputs": [
    {
     "data": {
      "text/plain": [
       "0    0001_01\n",
       "1    0002_01\n",
       "2    0003_01\n",
       "3    0003_02\n",
       "4    0004_01\n",
       "5    0005_01\n",
       "6    0006_01\n",
       "7    0006_02\n",
       "8    0007_01\n",
       "9    0008_01\n",
       "Name: PassengerId, dtype: object"
      ]
     },
     "execution_count": 8,
     "metadata": {},
     "output_type": "execute_result"
    }
   ],
   "source": [
    "train_data['PassengerId'].head(10)\n",
    "# the column PassengerID has two informations, the group the passenger is travelling with, and the \n",
    "# number of the passenger within the group. i'll do feature engineering to extract some useful information."
   ]
  },
  {
   "cell_type": "code",
   "execution_count": 9,
   "id": "741021ae",
   "metadata": {},
   "outputs": [
    {
     "data": {
      "text/plain": [
       "Earth     4602\n",
       "Europa    2131\n",
       "Mars      1759\n",
       "Name: HomePlanet, dtype: int64"
      ]
     },
     "execution_count": 9,
     "metadata": {},
     "output_type": "execute_result"
    }
   ],
   "source": [
    "train_data['HomePlanet'].value_counts()"
   ]
  },
  {
   "cell_type": "code",
   "execution_count": 10,
   "id": "406d5a8d",
   "metadata": {},
   "outputs": [
    {
     "data": {
      "text/plain": [
       "False    5439\n",
       "True     3037\n",
       "Name: CryoSleep, dtype: int64"
      ]
     },
     "execution_count": 10,
     "metadata": {},
     "output_type": "execute_result"
    }
   ],
   "source": [
    "train_data['CryoSleep'].value_counts()"
   ]
  },
  {
   "cell_type": "code",
   "execution_count": 11,
   "id": "46bf7ba1",
   "metadata": {},
   "outputs": [
    {
     "data": {
      "text/plain": [
       "bool"
      ]
     },
     "execution_count": 11,
     "metadata": {},
     "output_type": "execute_result"
    }
   ],
   "source": [
    "type(train_data['CryoSleep'][0])"
   ]
  },
  {
   "cell_type": "code",
   "execution_count": 12,
   "id": "8b94ef0b",
   "metadata": {},
   "outputs": [
    {
     "data": {
      "text/plain": [
       "0    B/0/P\n",
       "1    F/0/S\n",
       "2    A/0/S\n",
       "3    A/0/S\n",
       "4    F/1/S\n",
       "5    F/0/P\n",
       "6    F/2/S\n",
       "7    G/0/S\n",
       "8    F/3/S\n",
       "9    B/1/P\n",
       "Name: Cabin, dtype: object"
      ]
     },
     "execution_count": 12,
     "metadata": {},
     "output_type": "execute_result"
    }
   ],
   "source": [
    "train_data['Cabin'].head(10)\n",
    "# the column Cabin has three informations, deck, number and side of the cabin\n",
    "# i'll do feature engineering to extract some useful information."
   ]
  },
  {
   "cell_type": "code",
   "execution_count": 13,
   "id": "d900db83",
   "metadata": {},
   "outputs": [
    {
     "data": {
      "text/plain": [
       "TRAPPIST-1e      5915\n",
       "55 Cancri e      1800\n",
       "PSO J318.5-22     796\n",
       "Name: Destination, dtype: int64"
      ]
     },
     "execution_count": 13,
     "metadata": {},
     "output_type": "execute_result"
    }
   ],
   "source": [
    "train_data['Destination'].value_counts()"
   ]
  },
  {
   "cell_type": "code",
   "execution_count": 14,
   "id": "0fd883f6",
   "metadata": {},
   "outputs": [
    {
     "data": {
      "text/plain": [
       "False    8291\n",
       "True      199\n",
       "Name: VIP, dtype: int64"
      ]
     },
     "execution_count": 14,
     "metadata": {},
     "output_type": "execute_result"
    }
   ],
   "source": [
    "train_data['VIP'].value_counts()"
   ]
  },
  {
   "cell_type": "code",
   "execution_count": 15,
   "id": "0ee4d430",
   "metadata": {},
   "outputs": [
    {
     "data": {
      "text/plain": [
       "8473"
      ]
     },
     "execution_count": 15,
     "metadata": {},
     "output_type": "execute_result"
    }
   ],
   "source": [
    "train_data['Name'].nunique()\n",
    "# I'll drop the column Name, since it has such a high number of different values and it might not have correlation with target"
   ]
  },
  {
   "cell_type": "code",
   "execution_count": 16,
   "id": "9d30cf28",
   "metadata": {
    "scrolled": true
   },
   "outputs": [
    {
     "data": {
      "text/plain": [
       "True     4378\n",
       "False    4315\n",
       "Name: Transported, dtype: int64"
      ]
     },
     "execution_count": 16,
     "metadata": {},
     "output_type": "execute_result"
    }
   ],
   "source": [
    "train_data['Transported'].value_counts()\n",
    "# the train_data is almost exactly balanced, so there will be no need to worry about upsampling or downsampling in this case"
   ]
  },
  {
   "cell_type": "code",
   "execution_count": 17,
   "id": "82d09ae9",
   "metadata": {},
   "outputs": [
    {
     "data": {
      "text/plain": [
       "bool"
      ]
     },
     "execution_count": 17,
     "metadata": {},
     "output_type": "execute_result"
    }
   ],
   "source": [
    "type(train_data['VIP'][0])"
   ]
  },
  {
   "cell_type": "code",
   "execution_count": 18,
   "id": "91218683",
   "metadata": {},
   "outputs": [],
   "source": [
    "# using the bool columns as categoricals\n",
    "train_data['Transported'] = train_data['Transported'].replace({True: 'True', False: 'False'})\n",
    "train_data['VIP'] = train_data['VIP'].replace({True: 'True', False: 'False'})\n",
    "test_data['VIP'] = test_data['VIP'].replace({True: 'True', False: 'False'})\n",
    "train_data['CryoSleep'] = train_data['CryoSleep'].replace({True: 'True', False: 'False'})\n",
    "test_data['CryoSleep'] = test_data['CryoSleep'].replace({True: 'True', False: 'False'})"
   ]
  },
  {
   "cell_type": "code",
   "execution_count": 19,
   "id": "81219c4a",
   "metadata": {},
   "outputs": [
    {
     "data": {
      "text/plain": [
       "str"
      ]
     },
     "execution_count": 19,
     "metadata": {},
     "output_type": "execute_result"
    }
   ],
   "source": [
    "type(train_data['VIP'][0])"
   ]
  },
  {
   "cell_type": "markdown",
   "id": "59f0b332",
   "metadata": {},
   "source": [
    "### Filling Null Values"
   ]
  },
  {
   "cell_type": "code",
   "execution_count": 20,
   "id": "918554c1",
   "metadata": {},
   "outputs": [
    {
     "name": "stdout",
     "output_type": "stream",
     "text": [
      "Percentage of nulls in Train Data \n",
      " PassengerId     0.000000\n",
      "HomePlanet      2.312205\n",
      "CryoSleep       2.496261\n",
      "Cabin           2.289198\n",
      "Destination     2.093639\n",
      "Age             2.059128\n",
      "VIP             2.335212\n",
      "RoomService     2.082135\n",
      "FoodCourt       2.105142\n",
      "ShoppingMall    2.392730\n",
      "Spa             2.105142\n",
      "VRDeck          2.162660\n",
      "Name            2.300702\n",
      "Transported     0.000000\n",
      "dtype: float64 \n",
      "\n",
      "Percentage of nulls in Test Data \n",
      " PassengerId     0.000000\n",
      "HomePlanet      2.034136\n",
      "CryoSleep       2.174421\n",
      "Cabin           2.338087\n",
      "Destination     2.151040\n",
      "Age             2.127660\n",
      "VIP             2.174421\n",
      "RoomService     1.917232\n",
      "FoodCourt       2.478373\n",
      "ShoppingMall    2.291326\n",
      "Spa             2.361468\n",
      "VRDeck          1.870470\n",
      "Name            2.197802\n",
      "dtype: float64\n"
     ]
    }
   ],
   "source": [
    "print('Percentage of nulls in Train Data', '\\n',train_data.isna().sum()/len(train_data) * 100,'\\n')\n",
    "print('Percentage of nulls in Test Data', '\\n',test_data.isna().sum()/len(test_data) * 100)"
   ]
  },
  {
   "cell_type": "code",
   "execution_count": 21,
   "id": "79becac1",
   "metadata": {},
   "outputs": [],
   "source": [
    "def filling_nulls(df):\n",
    "    # splitting data in numericals and categoricals to give a different solution to each one\n",
    "    df_num = df.select_dtypes(np.number)\n",
    "    df_cat = df.select_dtypes(np.object)\n",
    "    \n",
    "    \n",
    "    # for numericals the nulls will be filled with the mean value of that column\n",
    "    for col in df_num.columns:\n",
    "        df_num[col] = df_num[col].fillna(df_num[col].mean())\n",
    "    \n",
    "    # for categoricals the null will be filled with the most frequent category\n",
    "    for col in df_cat.columns:\n",
    "        df_cat[col] = df_cat[col].fillna(df_cat[col].value_counts().index[0])\n",
    "    \n",
    "    # putting the data back together\n",
    "    df = pd.concat([df_cat, df_num], axis=1)\n",
    "    \n",
    "    return df"
   ]
  },
  {
   "cell_type": "code",
   "execution_count": 22,
   "id": "ad0a83eb",
   "metadata": {},
   "outputs": [],
   "source": [
    "train_data = filling_nulls(train_data)\n",
    "test_data = filling_nulls(test_data)"
   ]
  },
  {
   "cell_type": "code",
   "execution_count": null,
   "id": "3ab999f6",
   "metadata": {},
   "outputs": [],
   "source": []
  },
  {
   "cell_type": "markdown",
   "id": "a8e0dd8a",
   "metadata": {},
   "source": [
    "### Feature Engineering"
   ]
  },
  {
   "cell_type": "code",
   "execution_count": 23,
   "id": "dff61c64",
   "metadata": {},
   "outputs": [
    {
     "data": {
      "text/plain": [
       "0       0001_01\n",
       "1       0002_01\n",
       "2       0003_01\n",
       "3       0003_02\n",
       "4       0004_01\n",
       "         ...   \n",
       "8688    9276_01\n",
       "8689    9278_01\n",
       "8690    9279_01\n",
       "8691    9280_01\n",
       "8692    9280_02\n",
       "Name: PassengerId, Length: 8693, dtype: object"
      ]
     },
     "execution_count": 23,
     "metadata": {},
     "output_type": "execute_result"
    }
   ],
   "source": [
    "train_data['PassengerId']\n",
    "# i'll do feature engineering to extract the size of the group the passenger belongs"
   ]
  },
  {
   "cell_type": "code",
   "execution_count": 24,
   "id": "047d53a3",
   "metadata": {},
   "outputs": [],
   "source": [
    "def fe_group_size(df):\n",
    "    # creating new columns to separate the two informations inside the column PassengerId\n",
    "    df['GroupNumber'] = list(map(lambda x: int(x.split('_')[0]), df['PassengerId']))\n",
    "    df['PassengerNumber'] = list(map(lambda x: int(x.split('_')[1]), df['PassengerId']))\n",
    "    \n",
    "    # i'll create the column GroupSize with nulls inside it\n",
    "    df['GroupSize'] = np.nan\n",
    "    \n",
    "    # getting the number of passengers inside each group and fill the nulls using a for loop\n",
    "    for i in range(len(df)):\n",
    "        df['GroupSize'][i] = df[df['GroupNumber'] == df['GroupNumber'][i]]['PassengerNumber'].sort_values(ascending=False).values[0]\n",
    "        \n",
    "    return df"
   ]
  },
  {
   "cell_type": "code",
   "execution_count": 25,
   "id": "337a2164",
   "metadata": {},
   "outputs": [],
   "source": [
    "# applying the function to both datasets\n",
    "train_data = fe_group_size(train_data)\n",
    "test_data = fe_group_size(test_data)\n",
    "# now both datasets have tree more columns: GroupNumber, PassengerNumber and GroupSize"
   ]
  },
  {
   "cell_type": "code",
   "execution_count": 26,
   "id": "b73c6027",
   "metadata": {},
   "outputs": [
    {
     "name": "stdout",
     "output_type": "stream",
     "text": [
      "number of passengers in group number 1: 1\n",
      "number of passengers in group number 2: 1\n",
      "number of passengers in group number 3: 2\n",
      "number of passengers in group number 4: 1\n",
      "number of passengers in group number 5: 1\n",
      "number of passengers in group number 6: 2\n",
      "number of passengers in group number 7: 1\n",
      "number of passengers in group number 8: 3\n",
      "number of passengers in group number 9: 1\n"
     ]
    }
   ],
   "source": [
    "for i in range(1,10):\n",
    "    print(f'number of passengers in group number {i}:', len(train_data[train_data['GroupNumber'] == i]))\n",
    "    \n",
    "# I don't think the column GroupNumber is a good input to the machine learning model. It has to many different values\n",
    "# with just a few records. I don't think the algorithm will be able to learn anything with it.\n",
    "# Instead of droping this column i'll create buckets to aggregate data."
   ]
  },
  {
   "cell_type": "code",
   "execution_count": 27,
   "id": "1b38c049",
   "metadata": {},
   "outputs": [
    {
     "data": {
      "image/png": "[encoded data removed]",
      "text/plain": [
       "<Figure size 640x480 with 1 Axes>"
      ]
     },
     "metadata": {},
     "output_type": "display_data"
    }
   ],
   "source": [
    "group_number_buckets = pd.cut(train_data['GroupNumber'], bins=8, labels=False)\n",
    "\n",
    "sns.countplot(x=group_number_buckets, hue=train_data['Transported'])\n",
    "plt.xlabel('Group Number Buckets')\n",
    "plt.show()"
   ]
  },
  {
   "cell_type": "code",
   "execution_count": null,
   "id": "533c564d",
   "metadata": {},
   "outputs": [],
   "source": []
  },
  {
   "cell_type": "code",
   "execution_count": null,
   "id": "d71b3012",
   "metadata": {},
   "outputs": [],
   "source": []
  },
  {
   "cell_type": "code",
   "execution_count": 28,
   "id": "f7b15fc8",
   "metadata": {},
   "outputs": [
    {
     "data": {
      "text/plain": [
       "0          B/0/P\n",
       "1          F/0/S\n",
       "2          A/0/S\n",
       "3          A/0/S\n",
       "4          F/1/S\n",
       "          ...   \n",
       "8688      A/98/P\n",
       "8689    G/1499/S\n",
       "8690    G/1500/S\n",
       "8691     E/608/S\n",
       "8692     E/608/S\n",
       "Name: Cabin, Length: 8693, dtype: object"
      ]
     },
     "execution_count": 28,
     "metadata": {},
     "output_type": "execute_result"
    }
   ],
   "source": [
    "train_data['Cabin']\n",
    "# Now i'll work on the column Cabin. It has three informations: deck, number and side"
   ]
  },
  {
   "cell_type": "code",
   "execution_count": 29,
   "id": "57b3d0e1",
   "metadata": {},
   "outputs": [],
   "source": [
    "def fe_cabin(df):\n",
    "    # creating new columns to separate the information inside the column Cabin\n",
    "    df['CabinDeck'] = list(map(lambda x: np.nan if type(x)==float else x.split('/')[0], df['Cabin']))\n",
    "    df['CabinNumber'] = list(map(lambda x: np.nan if type(x)==float else int(x.split('/')[1]), df['Cabin']))\n",
    "    df['CabinSide'] = list(map(lambda x: np.nan if type(x)==float else x.split('/')[2], df['Cabin']))\n",
    "    # i used if else to avoid nulls\n",
    "    \n",
    "    # droping Cabin since the information is now in three new columns\n",
    "    df = df.drop('Cabin', axis=1)\n",
    "\n",
    "    return df"
   ]
  },
  {
   "cell_type": "code",
   "execution_count": 30,
   "id": "4b51edbc",
   "metadata": {},
   "outputs": [],
   "source": [
    "train_data = fe_cabin(train_data)\n",
    "test_data = fe_cabin(test_data)"
   ]
  },
  {
   "cell_type": "code",
   "execution_count": null,
   "id": "17e0a2fc",
   "metadata": {},
   "outputs": [],
   "source": []
  },
  {
   "cell_type": "code",
   "execution_count": 31,
   "id": "44b4b065",
   "metadata": {},
   "outputs": [
    {
     "name": "stdout",
     "output_type": "stream",
     "text": [
      "number of passengers in a cabin with number 0: 18\n",
      "number of passengers in a cabin with number 1: 15\n",
      "number of passengers in a cabin with number 2: 11\n",
      "number of passengers in a cabin with number 3: 16\n",
      "number of passengers in a cabin with number 4: 7\n",
      "number of passengers in a cabin with number 5: 13\n",
      "number of passengers in a cabin with number 6: 12\n",
      "number of passengers in a cabin with number 7: 9\n",
      "number of passengers in a cabin with number 8: 13\n",
      "number of passengers in a cabin with number 9: 16\n"
     ]
    }
   ],
   "source": [
    "for i in range(10):\n",
    "    print(f'number of passengers in a cabin with number {i}:', len(train_data[train_data['CabinNumber'] == i]))"
   ]
  },
  {
   "cell_type": "code",
   "execution_count": 32,
   "id": "2a178098",
   "metadata": {},
   "outputs": [],
   "source": [
    "# since the number of passengers for each CabinNumber is so low, i don't think the machine learning model\n",
    "# will be able to understand this column really well. I'll create buckets to aggregate data"
   ]
  },
  {
   "cell_type": "code",
   "execution_count": 33,
   "id": "910184fb",
   "metadata": {},
   "outputs": [
    {
     "data": {
      "image/png": "[encoded data removed]",
      "text/plain": [
       "<Figure size 640x480 with 1 Axes>"
      ]
     },
     "metadata": {},
     "output_type": "display_data"
    }
   ],
   "source": [
    "cabin_number_buckets = pd.cut(train_data['CabinNumber'], bins=6, labels=False)\n",
    "\n",
    "sns.countplot(x=cabin_number_buckets, hue=train_data['Transported'])\n",
    "plt.xlabel('Cabin Number Buckets')\n",
    "plt.show()"
   ]
  },
  {
   "cell_type": "code",
   "execution_count": 34,
   "id": "18255971",
   "metadata": {},
   "outputs": [],
   "source": [
    "def bucketing(df):\n",
    "    # creating the bucket names using a for loop and list comprehension\n",
    "    bucket_names_8 = [f'Bucket {i}' for i in range(8)]\n",
    "    bucket_names_6 = [f'Bucket {i}' for i in range(6)]\n",
    "    \n",
    "    # creating column GroupNumberBucket\n",
    "    df['GroupNumberBuckets'] = pd.cut(df['GroupNumber'], bins=8, labels=bucket_names_8)\n",
    "    \n",
    "    # creating column CabinNumberBucket\n",
    "    df['CabinNumberBuckets'] = pd.cut(df['CabinNumber'], bins=6, labels=bucket_names_6)\n",
    "    \n",
    "    return df"
   ]
  },
  {
   "cell_type": "code",
   "execution_count": 35,
   "id": "ad9c3a4e",
   "metadata": {},
   "outputs": [],
   "source": [
    "train_data = bucketing(train_data)\n",
    "test_data = bucketing(test_data)\n",
    "\n",
    "# now that i created new columns with buckets for GroupNumber and CabinNumber i'll drop the original columns\n",
    "train_data = train_data.drop(['GroupNumber', 'CabinNumber'], axis=1)\n",
    "test_data = test_data.drop(['GroupNumber', 'CabinNumber'], axis=1)"
   ]
  },
  {
   "cell_type": "code",
   "execution_count": null,
   "id": "51da5a1f",
   "metadata": {},
   "outputs": [],
   "source": []
  },
  {
   "cell_type": "code",
   "execution_count": 36,
   "id": "4ae1fd49",
   "metadata": {},
   "outputs": [
    {
     "data": {
      "text/html": [
       "<div>\n",
       "<style scoped>\n",
       "    .dataframe tbody tr th:only-of-type {\n",
       "        vertical-align: middle;\n",
       "    }\n",
       "\n",
       "    .dataframe tbody tr th {\n",
       "        vertical-align: top;\n",
       "    }\n",
       "\n",
       "    .dataframe thead th {\n",
       "        text-align: right;\n",
       "    }\n",
       "</style>\n",
       "<table border=\"1\" class=\"dataframe\">\n",
       "  <thead>\n",
       "    <tr style=\"text-align: right;\">\n",
       "      <th></th>\n",
       "      <th>PassengerId</th>\n",
       "      <th>HomePlanet</th>\n",
       "      <th>CryoSleep</th>\n",
       "      <th>Destination</th>\n",
       "      <th>VIP</th>\n",
       "      <th>Name</th>\n",
       "      <th>Transported</th>\n",
       "      <th>Age</th>\n",
       "      <th>RoomService</th>\n",
       "      <th>FoodCourt</th>\n",
       "      <th>ShoppingMall</th>\n",
       "      <th>Spa</th>\n",
       "      <th>VRDeck</th>\n",
       "      <th>PassengerNumber</th>\n",
       "      <th>GroupSize</th>\n",
       "      <th>CabinDeck</th>\n",
       "      <th>CabinSide</th>\n",
       "      <th>GroupNumberBuckets</th>\n",
       "      <th>CabinNumberBuckets</th>\n",
       "    </tr>\n",
       "  </thead>\n",
       "  <tbody>\n",
       "    <tr>\n",
       "      <th>0</th>\n",
       "      <td>0001_01</td>\n",
       "      <td>Europa</td>\n",
       "      <td>False</td>\n",
       "      <td>TRAPPIST-1e</td>\n",
       "      <td>False</td>\n",
       "      <td>Maham Ofracculy</td>\n",
       "      <td>False</td>\n",
       "      <td>39.0</td>\n",
       "      <td>0.0</td>\n",
       "      <td>0.0</td>\n",
       "      <td>0.0</td>\n",
       "      <td>0.0</td>\n",
       "      <td>0.0</td>\n",
       "      <td>1</td>\n",
       "      <td>1.0</td>\n",
       "      <td>B</td>\n",
       "      <td>P</td>\n",
       "      <td>Bucket 0</td>\n",
       "      <td>Bucket 0</td>\n",
       "    </tr>\n",
       "    <tr>\n",
       "      <th>1</th>\n",
       "      <td>0002_01</td>\n",
       "      <td>Earth</td>\n",
       "      <td>False</td>\n",
       "      <td>TRAPPIST-1e</td>\n",
       "      <td>False</td>\n",
       "      <td>Juanna Vines</td>\n",
       "      <td>True</td>\n",
       "      <td>24.0</td>\n",
       "      <td>109.0</td>\n",
       "      <td>9.0</td>\n",
       "      <td>25.0</td>\n",
       "      <td>549.0</td>\n",
       "      <td>44.0</td>\n",
       "      <td>1</td>\n",
       "      <td>1.0</td>\n",
       "      <td>F</td>\n",
       "      <td>S</td>\n",
       "      <td>Bucket 0</td>\n",
       "      <td>Bucket 0</td>\n",
       "    </tr>\n",
       "    <tr>\n",
       "      <th>2</th>\n",
       "      <td>0003_01</td>\n",
       "      <td>Europa</td>\n",
       "      <td>False</td>\n",
       "      <td>TRAPPIST-1e</td>\n",
       "      <td>True</td>\n",
       "      <td>Altark Susent</td>\n",
       "      <td>False</td>\n",
       "      <td>58.0</td>\n",
       "      <td>43.0</td>\n",
       "      <td>3576.0</td>\n",
       "      <td>0.0</td>\n",
       "      <td>6715.0</td>\n",
       "      <td>49.0</td>\n",
       "      <td>1</td>\n",
       "      <td>2.0</td>\n",
       "      <td>A</td>\n",
       "      <td>S</td>\n",
       "      <td>Bucket 0</td>\n",
       "      <td>Bucket 0</td>\n",
       "    </tr>\n",
       "    <tr>\n",
       "      <th>3</th>\n",
       "      <td>0003_02</td>\n",
       "      <td>Europa</td>\n",
       "      <td>False</td>\n",
       "      <td>TRAPPIST-1e</td>\n",
       "      <td>False</td>\n",
       "      <td>Solam Susent</td>\n",
       "      <td>False</td>\n",
       "      <td>33.0</td>\n",
       "      <td>0.0</td>\n",
       "      <td>1283.0</td>\n",
       "      <td>371.0</td>\n",
       "      <td>3329.0</td>\n",
       "      <td>193.0</td>\n",
       "      <td>2</td>\n",
       "      <td>2.0</td>\n",
       "      <td>A</td>\n",
       "      <td>S</td>\n",
       "      <td>Bucket 0</td>\n",
       "      <td>Bucket 0</td>\n",
       "    </tr>\n",
       "    <tr>\n",
       "      <th>4</th>\n",
       "      <td>0004_01</td>\n",
       "      <td>Earth</td>\n",
       "      <td>False</td>\n",
       "      <td>TRAPPIST-1e</td>\n",
       "      <td>False</td>\n",
       "      <td>Willy Santantines</td>\n",
       "      <td>True</td>\n",
       "      <td>16.0</td>\n",
       "      <td>303.0</td>\n",
       "      <td>70.0</td>\n",
       "      <td>151.0</td>\n",
       "      <td>565.0</td>\n",
       "      <td>2.0</td>\n",
       "      <td>1</td>\n",
       "      <td>1.0</td>\n",
       "      <td>F</td>\n",
       "      <td>S</td>\n",
       "      <td>Bucket 0</td>\n",
       "      <td>Bucket 0</td>\n",
       "    </tr>\n",
       "  </tbody>\n",
       "</table>\n",
       "</div>"
      ],
      "text/plain": [
       "  PassengerId HomePlanet CryoSleep  Destination    VIP               Name  \\\n",
       "0     0001_01     Europa     False  TRAPPIST-1e  False    Maham Ofracculy   \n",
       "1     0002_01      Earth     False  TRAPPIST-1e  False       Juanna Vines   \n",
       "2     0003_01     Europa     False  TRAPPIST-1e   True      Altark Susent   \n",
       "3     0003_02     Europa     False  TRAPPIST-1e  False       Solam Susent   \n",
       "4     0004_01      Earth     False  TRAPPIST-1e  False  Willy Santantines   \n",
       "\n",
       "  Transported   Age  RoomService  FoodCourt  ShoppingMall     Spa  VRDeck  \\\n",
       "0       False  39.0          0.0        0.0           0.0     0.0     0.0   \n",
       "1        True  24.0        109.0        9.0          25.0   549.0    44.0   \n",
       "2       False  58.0         43.0     3576.0           0.0  6715.0    49.0   \n",
       "3       False  33.0          0.0     1283.0         371.0  3329.0   193.0   \n",
       "4        True  16.0        303.0       70.0         151.0   565.0     2.0   \n",
       "\n",
       "   PassengerNumber  GroupSize CabinDeck CabinSide GroupNumberBuckets  \\\n",
       "0                1        1.0         B         P           Bucket 0   \n",
       "1                1        1.0         F         S           Bucket 0   \n",
       "2                1        2.0         A         S           Bucket 0   \n",
       "3                2        2.0         A         S           Bucket 0   \n",
       "4                1        1.0         F         S           Bucket 0   \n",
       "\n",
       "  CabinNumberBuckets  \n",
       "0           Bucket 0  \n",
       "1           Bucket 0  \n",
       "2           Bucket 0  \n",
       "3           Bucket 0  \n",
       "4           Bucket 0  "
      ]
     },
     "execution_count": 36,
     "metadata": {},
     "output_type": "execute_result"
    }
   ],
   "source": [
    "train_data.head()"
   ]
  },
  {
   "cell_type": "code",
   "execution_count": null,
   "id": "b287210e",
   "metadata": {},
   "outputs": [],
   "source": []
  },
  {
   "cell_type": "code",
   "execution_count": 38,
   "id": "7f80e2ed",
   "metadata": {},
   "outputs": [
    {
     "name": "stdout",
     "output_type": "stream",
     "text": [
      "PassengerNumber unique values: [1 2 3 4 5 6 7 8]\n",
      "GroupSize unique values: [1. 2. 3. 6. 4. 7. 5. 8.]\n"
     ]
    }
   ],
   "source": [
    "print('PassengerNumber unique values:', train_data['PassengerNumber'].unique())\n",
    "print('GroupSize unique values:', train_data['GroupSize'].unique())"
   ]
  },
  {
   "cell_type": "code",
   "execution_count": 39,
   "id": "5e53483d",
   "metadata": {},
   "outputs": [
    {
     "data": {
      "image/png": "[encoded data removed]",
      "text/plain": [
       "<Figure size 1000x800 with 4 Axes>"
      ]
     },
     "metadata": {},
     "output_type": "display_data"
    }
   ],
   "source": [
    "fig, [ax1, ax2] = plt.subplots(2,2)\n",
    "fig.set_figheight(8)\n",
    "fig.set_figwidth(10)\n",
    "\n",
    "ax1[0].hist(train_data['PassengerNumber'], edgecolor='k')\n",
    "ax1[0].set_title('PassengerNumber - Histogram')\n",
    "ax1[0].set_ylabel('count')\n",
    "\n",
    "ax1[1].boxplot(train_data['PassengerNumber'], patch_artist=True)\n",
    "ax1[1].set_title('PassengerNumber - Boxplot')\n",
    "\n",
    "ax2[0].hist(train_data['GroupSize'], edgecolor='k')\n",
    "ax2[0].set_title('GroupSize - Histogram')\n",
    "ax2[0].set_ylabel('count')\n",
    "\n",
    "ax2[1].boxplot(train_data['GroupSize'], patch_artist=True)\n",
    "ax2[1].set_title('GroupSize - Boxplot')\n",
    "\n",
    "plt.show()"
   ]
  },
  {
   "cell_type": "code",
   "execution_count": 40,
   "id": "d5d9b0fa",
   "metadata": {},
   "outputs": [],
   "source": [
    "# I'll probably convert these two columns (GroupSize and PassengerNumber) to categoricals and re-aggregate them"
   ]
  },
  {
   "cell_type": "code",
   "execution_count": 41,
   "id": "66c09d09",
   "metadata": {},
   "outputs": [
    {
     "name": "stdout",
     "output_type": "stream",
     "text": [
      "\n",
      "PassengerNumber value counts\n",
      " 1    6217\n",
      "2    1412\n",
      "3     571\n",
      "4     231\n",
      "5     128\n",
      "6      75\n",
      "7      46\n",
      "8      13\n",
      "Name: PassengerNumber, dtype: int64\n",
      "\n",
      "GroupSize value counts\n",
      " 1.0    4805\n",
      "2.0    1682\n",
      "3.0    1020\n",
      "4.0     412\n",
      "5.0     265\n",
      "7.0     231\n",
      "6.0     174\n",
      "8.0     104\n",
      "Name: GroupSize, dtype: int64\n"
     ]
    }
   ],
   "source": [
    "print('\\nPassengerNumber value counts\\n', train_data['PassengerNumber'].value_counts())\n",
    "print('\\nGroupSize value counts\\n', train_data['GroupSize'].value_counts())"
   ]
  },
  {
   "cell_type": "code",
   "execution_count": 54,
   "id": "35b55406",
   "metadata": {},
   "outputs": [],
   "source": [
    "def aggregating(x):\n",
    "    if x == 1:\n",
    "        return '1'\n",
    "    elif x == 2 or x == 3:\n",
    "        return '2 or 3'\n",
    "    else:\n",
    "        return '4+'"
   ]
  },
  {
   "cell_type": "code",
   "execution_count": 55,
   "id": "4f768456",
   "metadata": {},
   "outputs": [],
   "source": [
    "train_data['PassengerNumber'] = list(map(aggregating, train_data['PassengerNumber']))\n",
    "train_data['GroupSize'] = list(map(aggregating, train_data['GroupSize']))\n",
    "test_data['PassengerNumber'] = list(map(aggregating, test_data['PassengerNumber']))\n",
    "test_data['GroupSize'] = list(map(aggregating, test_data['GroupSize']))"
   ]
  },
  {
   "cell_type": "code",
   "execution_count": null,
   "id": "e01efb7b",
   "metadata": {},
   "outputs": [],
   "source": []
  },
  {
   "cell_type": "code",
   "execution_count": null,
   "id": "a822ae02",
   "metadata": {},
   "outputs": [],
   "source": []
  },
  {
   "cell_type": "code",
   "execution_count": null,
   "id": "89f3af05",
   "metadata": {},
   "outputs": [],
   "source": []
  },
  {
   "cell_type": "code",
   "execution_count": 56,
   "id": "21711e19",
   "metadata": {},
   "outputs": [
    {
     "data": {
      "image/png": "[encoded data removed]",
      "text/plain": [
       "<Figure size 1400x700 with 2 Axes>"
      ]
     },
     "metadata": {},
     "output_type": "display_data"
    }
   ],
   "source": [
    "plt.figure(figsize=(14,7))\n",
    "sns.heatmap(train_data.corr(), annot=True)\n",
    "plt.show()"
   ]
  },
  {
   "cell_type": "code",
   "execution_count": 57,
   "id": "da444e0a",
   "metadata": {},
   "outputs": [],
   "source": [
    "num_feat = train_data.select_dtypes(np.number)\n",
    "cat_feat = train_data.select_dtypes(np.object)"
   ]
  },
  {
   "cell_type": "code",
   "execution_count": null,
   "id": "93794762",
   "metadata": {},
   "outputs": [],
   "source": []
  },
  {
   "cell_type": "code",
   "execution_count": 58,
   "id": "13f3ea64",
   "metadata": {},
   "outputs": [
    {
     "name": "stdout",
     "output_type": "stream",
     "text": [
      "VIF for column Age = 1.3838864528404007\n",
      "VIF for column RoomService = 1.1168200850984522\n",
      "VIF for column FoodCourt = 1.1951967929570602\n",
      "VIF for column ShoppingMall = 1.0792426203893426\n",
      "VIF for column Spa = 1.153295408454935\n",
      "VIF for column VRDeck = 1.1456372516555846\n"
     ]
    }
   ],
   "source": [
    "for i in range(num_feat.shape[1]):\n",
    "    print('VIF for column', num_feat.columns[i], '=', variance_inflation_factor(num_feat, i))"
   ]
  },
  {
   "cell_type": "code",
   "execution_count": 59,
   "id": "524c9fdf",
   "metadata": {},
   "outputs": [],
   "source": [
    "# All numerical features have a good VIF. I'll will not drop any of these columns"
   ]
  },
  {
   "cell_type": "code",
   "execution_count": null,
   "id": "80825ac1",
   "metadata": {},
   "outputs": [],
   "source": []
  },
  {
   "cell_type": "code",
   "execution_count": null,
   "id": "edd5b043",
   "metadata": {},
   "outputs": [],
   "source": []
  },
  {
   "cell_type": "code",
   "execution_count": 61,
   "id": "3bf2f01e",
   "metadata": {},
   "outputs": [
    {
     "name": "stdout",
     "output_type": "stream",
     "text": [
      "<class 'pandas.core.frame.DataFrame'>\n",
      "RangeIndex: 8693 entries, 0 to 8692\n",
      "Data columns (total 19 columns):\n",
      " #   Column              Non-Null Count  Dtype   \n",
      "---  ------              --------------  -----   \n",
      " 0   PassengerId         8693 non-null   object  \n",
      " 1   HomePlanet          8693 non-null   object  \n",
      " 2   CryoSleep           8693 non-null   object  \n",
      " 3   Destination         8693 non-null   object  \n",
      " 4   VIP                 8693 non-null   object  \n",
      " 5   Name                8693 non-null   object  \n",
      " 6   Transported         8693 non-null   object  \n",
      " 7   Age                 8693 non-null   float64 \n",
      " 8   RoomService         8693 non-null   float64 \n",
      " 9   FoodCourt           8693 non-null   float64 \n",
      " 10  ShoppingMall        8693 non-null   float64 \n",
      " 11  Spa                 8693 non-null   float64 \n",
      " 12  VRDeck              8693 non-null   float64 \n",
      " 13  PassengerNumber     8693 non-null   object  \n",
      " 14  GroupSize           8693 non-null   object  \n",
      " 15  CabinDeck           8693 non-null   object  \n",
      " 16  CabinSide           8693 non-null   object  \n",
      " 17  GroupNumberBuckets  8693 non-null   category\n",
      " 18  CabinNumberBuckets  8693 non-null   category\n",
      "dtypes: category(2), float64(6), object(11)\n",
      "memory usage: 1.1+ MB\n"
     ]
    }
   ],
   "source": [
    "train_data.info()"
   ]
  },
  {
   "cell_type": "code",
   "execution_count": null,
   "id": "a8894e9f",
   "metadata": {},
   "outputs": [],
   "source": []
  },
  {
   "cell_type": "code",
   "execution_count": 62,
   "id": "b41d9580",
   "metadata": {},
   "outputs": [
    {
     "data": {
      "text/html": [
       "<div>\n",
       "<style scoped>\n",
       "    .dataframe tbody tr th:only-of-type {\n",
       "        vertical-align: middle;\n",
       "    }\n",
       "\n",
       "    .dataframe tbody tr th {\n",
       "        vertical-align: top;\n",
       "    }\n",
       "\n",
       "    .dataframe thead th {\n",
       "        text-align: right;\n",
       "    }\n",
       "</style>\n",
       "<table border=\"1\" class=\"dataframe\">\n",
       "  <thead>\n",
       "    <tr style=\"text-align: right;\">\n",
       "      <th>CryoSleep</th>\n",
       "      <th>False</th>\n",
       "      <th>True</th>\n",
       "    </tr>\n",
       "    <tr>\n",
       "      <th>VIP</th>\n",
       "      <th></th>\n",
       "      <th></th>\n",
       "    </tr>\n",
       "  </thead>\n",
       "  <tbody>\n",
       "    <tr>\n",
       "      <th>False</th>\n",
       "      <td>5478</td>\n",
       "      <td>3016</td>\n",
       "    </tr>\n",
       "    <tr>\n",
       "      <th>True</th>\n",
       "      <td>178</td>\n",
       "      <td>21</td>\n",
       "    </tr>\n",
       "  </tbody>\n",
       "</table>\n",
       "</div>"
      ],
      "text/plain": [
       "CryoSleep  False  True\n",
       "VIP                   \n",
       "False       5478  3016\n",
       "True         178    21"
      ]
     },
     "execution_count": 62,
     "metadata": {},
     "output_type": "execute_result"
    }
   ],
   "source": [
    "pd.crosstab(cat_feat['VIP'], cat_feat['CryoSleep'])"
   ]
  },
  {
   "cell_type": "code",
   "execution_count": 63,
   "id": "1b86b2cc",
   "metadata": {},
   "outputs": [
    {
     "data": {
      "text/plain": [
       "(0.0005094949260066661, 7)"
      ]
     },
     "execution_count": 63,
     "metadata": {},
     "output_type": "execute_result"
    }
   ],
   "source": [
    "g, p, dof, expctd = chi2_contingency(pd.crosstab(cat_feat['CabinSide'], cat_feat['CabinDeck']), correction=False)\n",
    "p, dof"
   ]
  },
  {
   "cell_type": "code",
   "execution_count": 64,
   "id": "4f763f5d",
   "metadata": {},
   "outputs": [],
   "source": [
    "# Chi2_contingency\n",
    "# H0 = No correlation between categorical variables\n",
    "# H1 = There is correlation between categorical variables\n",
    "\n",
    "# if p-value <= 0.05 = Reject H0 (drop variable)\n",
    "# if p-value > 0.05 = Fail to reject H0 (accept H0)"
   ]
  },
  {
   "cell_type": "code",
   "execution_count": 65,
   "id": "d7d59d38",
   "metadata": {},
   "outputs": [
    {
     "data": {
      "text/html": [
       "<div>\n",
       "<style scoped>\n",
       "    .dataframe tbody tr th:only-of-type {\n",
       "        vertical-align: middle;\n",
       "    }\n",
       "\n",
       "    .dataframe tbody tr th {\n",
       "        vertical-align: top;\n",
       "    }\n",
       "\n",
       "    .dataframe thead th {\n",
       "        text-align: right;\n",
       "    }\n",
       "</style>\n",
       "<table border=\"1\" class=\"dataframe\">\n",
       "  <thead>\n",
       "    <tr style=\"text-align: right;\">\n",
       "      <th></th>\n",
       "      <th>PassengerId</th>\n",
       "      <th>HomePlanet</th>\n",
       "      <th>CryoSleep</th>\n",
       "      <th>Destination</th>\n",
       "      <th>VIP</th>\n",
       "      <th>Name</th>\n",
       "      <th>Transported</th>\n",
       "      <th>PassengerNumber</th>\n",
       "      <th>GroupSize</th>\n",
       "      <th>CabinDeck</th>\n",
       "      <th>CabinSide</th>\n",
       "    </tr>\n",
       "  </thead>\n",
       "  <tbody>\n",
       "    <tr>\n",
       "      <th>0</th>\n",
       "      <td>0001_01</td>\n",
       "      <td>Europa</td>\n",
       "      <td>False</td>\n",
       "      <td>TRAPPIST-1e</td>\n",
       "      <td>False</td>\n",
       "      <td>Maham Ofracculy</td>\n",
       "      <td>False</td>\n",
       "      <td>1</td>\n",
       "      <td>1</td>\n",
       "      <td>B</td>\n",
       "      <td>P</td>\n",
       "    </tr>\n",
       "    <tr>\n",
       "      <th>1</th>\n",
       "      <td>0002_01</td>\n",
       "      <td>Earth</td>\n",
       "      <td>False</td>\n",
       "      <td>TRAPPIST-1e</td>\n",
       "      <td>False</td>\n",
       "      <td>Juanna Vines</td>\n",
       "      <td>True</td>\n",
       "      <td>1</td>\n",
       "      <td>1</td>\n",
       "      <td>F</td>\n",
       "      <td>S</td>\n",
       "    </tr>\n",
       "    <tr>\n",
       "      <th>2</th>\n",
       "      <td>0003_01</td>\n",
       "      <td>Europa</td>\n",
       "      <td>False</td>\n",
       "      <td>TRAPPIST-1e</td>\n",
       "      <td>True</td>\n",
       "      <td>Altark Susent</td>\n",
       "      <td>False</td>\n",
       "      <td>1</td>\n",
       "      <td>2 or 3</td>\n",
       "      <td>A</td>\n",
       "      <td>S</td>\n",
       "    </tr>\n",
       "    <tr>\n",
       "      <th>3</th>\n",
       "      <td>0003_02</td>\n",
       "      <td>Europa</td>\n",
       "      <td>False</td>\n",
       "      <td>TRAPPIST-1e</td>\n",
       "      <td>False</td>\n",
       "      <td>Solam Susent</td>\n",
       "      <td>False</td>\n",
       "      <td>2 or 3</td>\n",
       "      <td>2 or 3</td>\n",
       "      <td>A</td>\n",
       "      <td>S</td>\n",
       "    </tr>\n",
       "    <tr>\n",
       "      <th>4</th>\n",
       "      <td>0004_01</td>\n",
       "      <td>Earth</td>\n",
       "      <td>False</td>\n",
       "      <td>TRAPPIST-1e</td>\n",
       "      <td>False</td>\n",
       "      <td>Willy Santantines</td>\n",
       "      <td>True</td>\n",
       "      <td>1</td>\n",
       "      <td>1</td>\n",
       "      <td>F</td>\n",
       "      <td>S</td>\n",
       "    </tr>\n",
       "    <tr>\n",
       "      <th>...</th>\n",
       "      <td>...</td>\n",
       "      <td>...</td>\n",
       "      <td>...</td>\n",
       "      <td>...</td>\n",
       "      <td>...</td>\n",
       "      <td>...</td>\n",
       "      <td>...</td>\n",
       "      <td>...</td>\n",
       "      <td>...</td>\n",
       "      <td>...</td>\n",
       "      <td>...</td>\n",
       "    </tr>\n",
       "    <tr>\n",
       "      <th>8688</th>\n",
       "      <td>9276_01</td>\n",
       "      <td>Europa</td>\n",
       "      <td>False</td>\n",
       "      <td>55 Cancri e</td>\n",
       "      <td>True</td>\n",
       "      <td>Gravior Noxnuther</td>\n",
       "      <td>False</td>\n",
       "      <td>1</td>\n",
       "      <td>1</td>\n",
       "      <td>A</td>\n",
       "      <td>P</td>\n",
       "    </tr>\n",
       "    <tr>\n",
       "      <th>8689</th>\n",
       "      <td>9278_01</td>\n",
       "      <td>Earth</td>\n",
       "      <td>True</td>\n",
       "      <td>PSO J318.5-22</td>\n",
       "      <td>False</td>\n",
       "      <td>Kurta Mondalley</td>\n",
       "      <td>False</td>\n",
       "      <td>1</td>\n",
       "      <td>1</td>\n",
       "      <td>G</td>\n",
       "      <td>S</td>\n",
       "    </tr>\n",
       "    <tr>\n",
       "      <th>8690</th>\n",
       "      <td>9279_01</td>\n",
       "      <td>Earth</td>\n",
       "      <td>False</td>\n",
       "      <td>TRAPPIST-1e</td>\n",
       "      <td>False</td>\n",
       "      <td>Fayey Connon</td>\n",
       "      <td>True</td>\n",
       "      <td>1</td>\n",
       "      <td>1</td>\n",
       "      <td>G</td>\n",
       "      <td>S</td>\n",
       "    </tr>\n",
       "    <tr>\n",
       "      <th>8691</th>\n",
       "      <td>9280_01</td>\n",
       "      <td>Europa</td>\n",
       "      <td>False</td>\n",
       "      <td>55 Cancri e</td>\n",
       "      <td>False</td>\n",
       "      <td>Celeon Hontichre</td>\n",
       "      <td>False</td>\n",
       "      <td>1</td>\n",
       "      <td>2 or 3</td>\n",
       "      <td>E</td>\n",
       "      <td>S</td>\n",
       "    </tr>\n",
       "    <tr>\n",
       "      <th>8692</th>\n",
       "      <td>9280_02</td>\n",
       "      <td>Europa</td>\n",
       "      <td>False</td>\n",
       "      <td>TRAPPIST-1e</td>\n",
       "      <td>False</td>\n",
       "      <td>Propsh Hontichre</td>\n",
       "      <td>True</td>\n",
       "      <td>2 or 3</td>\n",
       "      <td>2 or 3</td>\n",
       "      <td>E</td>\n",
       "      <td>S</td>\n",
       "    </tr>\n",
       "  </tbody>\n",
       "</table>\n",
       "<p>8693 rows × 11 columns</p>\n",
       "</div>"
      ],
      "text/plain": [
       "     PassengerId HomePlanet CryoSleep    Destination    VIP  \\\n",
       "0        0001_01     Europa     False    TRAPPIST-1e  False   \n",
       "1        0002_01      Earth     False    TRAPPIST-1e  False   \n",
       "2        0003_01     Europa     False    TRAPPIST-1e   True   \n",
       "3        0003_02     Europa     False    TRAPPIST-1e  False   \n",
       "4        0004_01      Earth     False    TRAPPIST-1e  False   \n",
       "...          ...        ...       ...            ...    ...   \n",
       "8688     9276_01     Europa     False    55 Cancri e   True   \n",
       "8689     9278_01      Earth      True  PSO J318.5-22  False   \n",
       "8690     9279_01      Earth     False    TRAPPIST-1e  False   \n",
       "8691     9280_01     Europa     False    55 Cancri e  False   \n",
       "8692     9280_02     Europa     False    TRAPPIST-1e  False   \n",
       "\n",
       "                   Name Transported PassengerNumber GroupSize CabinDeck  \\\n",
       "0       Maham Ofracculy       False               1         1         B   \n",
       "1          Juanna Vines        True               1         1         F   \n",
       "2         Altark Susent       False               1    2 or 3         A   \n",
       "3          Solam Susent       False          2 or 3    2 or 3         A   \n",
       "4     Willy Santantines        True               1         1         F   \n",
       "...                 ...         ...             ...       ...       ...   \n",
       "8688  Gravior Noxnuther       False               1         1         A   \n",
       "8689    Kurta Mondalley       False               1         1         G   \n",
       "8690       Fayey Connon        True               1         1         G   \n",
       "8691   Celeon Hontichre       False               1    2 or 3         E   \n",
       "8692   Propsh Hontichre        True          2 or 3    2 or 3         E   \n",
       "\n",
       "     CabinSide  \n",
       "0            P  \n",
       "1            S  \n",
       "2            S  \n",
       "3            S  \n",
       "4            S  \n",
       "...        ...  \n",
       "8688         P  \n",
       "8689         S  \n",
       "8690         S  \n",
       "8691         S  \n",
       "8692         S  \n",
       "\n",
       "[8693 rows x 11 columns]"
      ]
     },
     "execution_count": 65,
     "metadata": {},
     "output_type": "execute_result"
    }
   ],
   "source": [
    "cat_feat"
   ]
  },
  {
   "cell_type": "code",
   "execution_count": null,
   "id": "35194276",
   "metadata": {},
   "outputs": [],
   "source": []
  },
  {
   "cell_type": "code",
   "execution_count": null,
   "id": "05fe4c6c",
   "metadata": {},
   "outputs": [],
   "source": []
  },
  {
   "cell_type": "code",
   "execution_count": null,
   "id": "2a0de10a",
   "metadata": {},
   "outputs": [],
   "source": []
  },
  {
   "cell_type": "code",
   "execution_count": null,
   "id": "6b8fc65d",
   "metadata": {},
   "outputs": [],
   "source": []
  },
  {
   "cell_type": "code",
   "execution_count": null,
   "id": "06fffe75",
   "metadata": {},
   "outputs": [],
   "source": []
  },
  {
   "cell_type": "code",
   "execution_count": null,
   "id": "42ddb778",
   "metadata": {},
   "outputs": [],
   "source": []
  },
  {
   "cell_type": "code",
   "execution_count": null,
   "id": "6ab2cc3a",
   "metadata": {},
   "outputs": [],
   "source": []
  },
  {
   "cell_type": "code",
   "execution_count": 52,
   "id": "a61b3d1f",
   "metadata": {},
   "outputs": [],
   "source": [
    "submission_sample = pd.read_csv('../data/sample_submission.csv')"
   ]
  },
  {
   "cell_type": "code",
   "execution_count": 53,
   "id": "3a2b5630",
   "metadata": {},
   "outputs": [
    {
     "data": {
      "text/html": [
       "<div>\n",
       "<style scoped>\n",
       "    .dataframe tbody tr th:only-of-type {\n",
       "        vertical-align: middle;\n",
       "    }\n",
       "\n",
       "    .dataframe tbody tr th {\n",
       "        vertical-align: top;\n",
       "    }\n",
       "\n",
       "    .dataframe thead th {\n",
       "        text-align: right;\n",
       "    }\n",
       "</style>\n",
       "<table border=\"1\" class=\"dataframe\">\n",
       "  <thead>\n",
       "    <tr style=\"text-align: right;\">\n",
       "      <th></th>\n",
       "      <th>PassengerId</th>\n",
       "      <th>Transported</th>\n",
       "    </tr>\n",
       "  </thead>\n",
       "  <tbody>\n",
       "    <tr>\n",
       "      <th>0</th>\n",
       "      <td>0013_01</td>\n",
       "      <td>False</td>\n",
       "    </tr>\n",
       "    <tr>\n",
       "      <th>1</th>\n",
       "      <td>0018_01</td>\n",
       "      <td>False</td>\n",
       "    </tr>\n",
       "    <tr>\n",
       "      <th>2</th>\n",
       "      <td>0019_01</td>\n",
       "      <td>False</td>\n",
       "    </tr>\n",
       "    <tr>\n",
       "      <th>3</th>\n",
       "      <td>0021_01</td>\n",
       "      <td>False</td>\n",
       "    </tr>\n",
       "    <tr>\n",
       "      <th>4</th>\n",
       "      <td>0023_01</td>\n",
       "      <td>False</td>\n",
       "    </tr>\n",
       "    <tr>\n",
       "      <th>...</th>\n",
       "      <td>...</td>\n",
       "      <td>...</td>\n",
       "    </tr>\n",
       "    <tr>\n",
       "      <th>4272</th>\n",
       "      <td>9266_02</td>\n",
       "      <td>False</td>\n",
       "    </tr>\n",
       "    <tr>\n",
       "      <th>4273</th>\n",
       "      <td>9269_01</td>\n",
       "      <td>False</td>\n",
       "    </tr>\n",
       "    <tr>\n",
       "      <th>4274</th>\n",
       "      <td>9271_01</td>\n",
       "      <td>False</td>\n",
       "    </tr>\n",
       "    <tr>\n",
       "      <th>4275</th>\n",
       "      <td>9273_01</td>\n",
       "      <td>False</td>\n",
       "    </tr>\n",
       "    <tr>\n",
       "      <th>4276</th>\n",
       "      <td>9277_01</td>\n",
       "      <td>False</td>\n",
       "    </tr>\n",
       "  </tbody>\n",
       "</table>\n",
       "<p>4277 rows × 2 columns</p>\n",
       "</div>"
      ],
      "text/plain": [
       "     PassengerId  Transported\n",
       "0        0013_01        False\n",
       "1        0018_01        False\n",
       "2        0019_01        False\n",
       "3        0021_01        False\n",
       "4        0023_01        False\n",
       "...          ...          ...\n",
       "4272     9266_02        False\n",
       "4273     9269_01        False\n",
       "4274     9271_01        False\n",
       "4275     9273_01        False\n",
       "4276     9277_01        False\n",
       "\n",
       "[4277 rows x 2 columns]"
      ]
     },
     "execution_count": 53,
     "metadata": {},
     "output_type": "execute_result"
    }
   ],
   "source": [
    "submission_sample"
   ]
  },
  {
   "cell_type": "code",
   "execution_count": null,
   "id": "9a097108",
   "metadata": {},
   "outputs": [],
   "source": []
  },
  {
   "cell_type": "code",
   "execution_count": null,
   "id": "32b5dccd",
   "metadata": {},
   "outputs": [],
   "source": []
  }
 ],
 "metadata": {
  "kernelspec": {
   "display_name": "Python 3 (ipykernel)",
   "language": "python",
   "name": "python3"
  },
  "language_info": {
   "codemirror_mode": {
    "name": "ipython",
    "version": 3
   },
   "file_extension": ".py",
   "mimetype": "text/x-python",
   "name": "python",
   "nbconvert_exporter": "python",
   "pygments_lexer": "ipython3",
   "version": "3.10.9"
  }
 },
 "nbformat": 4,
 "nbformat_minor": 5
}
